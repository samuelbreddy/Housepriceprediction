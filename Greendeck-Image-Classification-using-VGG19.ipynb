{
 "cells": [
  {
   "cell_type": "code",
   "execution_count": 1,
   "id": "8760556e",
   "metadata": {
    "_cell_guid": "b1076dfc-b9ad-4769-8c92-a6c4dae69d19",
    "_uuid": "8f2839f25d086af736a60e9eeb907d3b93b6e0e5",
    "execution": {
     "iopub.execute_input": "2022-07-05T06:38:16.941760Z",
     "iopub.status.busy": "2022-07-05T06:38:16.941115Z",
     "iopub.status.idle": "2022-07-05T06:38:23.576236Z",
     "shell.execute_reply": "2022-07-05T06:38:23.575495Z"
    },
    "papermill": {
     "duration": 6.671249,
     "end_time": "2022-07-05T06:38:23.578674",
     "exception": false,
     "start_time": "2022-07-05T06:38:16.907425",
     "status": "completed"
    },
    "tags": []
   },
   "outputs": [],
   "source": [
    "#Loading the Libraries\n",
    "import numpy as np \n",
    "import os\n",
    "import seaborn as sns\n",
    "import pandas as pd \n",
    "import matplotlib.pyplot as plt\n",
    "%matplotlib inline\n",
    "import cv2\n",
    "import glob\n",
    "\n",
    " \n",
    "# Importing Keras libraries\n",
    "from keras.utils import np_utils\n",
    "from keras.models import Sequential\n",
    "from keras.applications import imagenet_utils\n",
    "from keras.callbacks import ModelCheckpoint\n",
    "from keras.applications.vgg19 import VGG19\n",
    "from keras.applications.vgg19 import preprocess_input\n",
    "from keras.preprocessing.image import load_img\n",
    "from keras.preprocessing.image import img_to_array\n",
    "from keras.layers import Dense, Conv2D, MaxPooling2D\n",
    "from keras.layers import Dropout, Flatten, GlobalAveragePooling2D\n",
    "from tensorflow.keras.layers import Input, Lambda, Dense, Flatten\n",
    "from keras.models import Model\n",
    " \n",
    "for dirname, _, filenames in os.walk('C:\\\\Users\\\\samue\\\\Downloads\\\\Green deck image classification (1)'):\n",
    "    for filename in filenames:\n",
    "        print(os.path.join('../input/green-deck-image-classification/fashion/fashion', 'train.csv'))"
   ]
  },
  {
   "cell_type": "code",
   "execution_count": 2,
   "id": "19df30d1",
   "metadata": {
    "execution": {
     "iopub.execute_input": "2022-07-05T06:38:23.636702Z",
     "iopub.status.busy": "2022-07-05T06:38:23.636425Z",
     "iopub.status.idle": "2022-07-05T06:38:23.645304Z",
     "shell.execute_reply": "2022-07-05T06:38:23.644657Z"
    },
    "papermill": {
     "duration": 0.039465,
     "end_time": "2022-07-05T06:38:23.647014",
     "exception": false,
     "start_time": "2022-07-05T06:38:23.607549",
     "status": "completed"
    },
    "tags": []
   },
   "outputs": [],
   "source": [
    "#Loading the dataset\n",
    "os.listdir('../input/green-deck-image-classification/fashion')\n",
    "import glob\n",
    "Image_list=glob.glob('../input/green-deck-image-classification/fashion/*.jpg',recursive=True)\n",
    "\n"
   ]
  },
  {
   "cell_type": "code",
   "execution_count": 3,
   "id": "800a41c1",
   "metadata": {
    "execution": {
     "iopub.execute_input": "2022-07-05T06:38:23.706388Z",
     "iopub.status.busy": "2022-07-05T06:38:23.705745Z",
     "iopub.status.idle": "2022-07-05T06:38:23.738561Z",
     "shell.execute_reply": "2022-07-05T06:38:23.737851Z"
    },
    "papermill": {
     "duration": 0.063261,
     "end_time": "2022-07-05T06:38:23.740578",
     "exception": false,
     "start_time": "2022-07-05T06:38:23.677317",
     "status": "completed"
    },
    "tags": []
   },
   "outputs": [],
   "source": [
    "dataset = pd.read_csv('../input/green-deck-image-classification/train.csv')\n"
   ]
  },
  {
   "cell_type": "markdown",
   "id": "ce6819b5",
   "metadata": {
    "papermill": {
     "duration": 0.027905,
     "end_time": "2022-07-05T06:38:23.796760",
     "exception": false,
     "start_time": "2022-07-05T06:38:23.768855",
     "status": "completed"
    },
    "tags": []
   },
   "source": [
    "**Performing Exploratory Data Analysis (EDA):**\n"
   ]
  },
  {
   "cell_type": "code",
   "execution_count": 4,
   "id": "2fd8fe13",
   "metadata": {
    "execution": {
     "iopub.execute_input": "2022-07-05T06:38:23.853657Z",
     "iopub.status.busy": "2022-07-05T06:38:23.853438Z",
     "iopub.status.idle": "2022-07-05T06:38:23.859492Z",
     "shell.execute_reply": "2022-07-05T06:38:23.858859Z"
    },
    "papermill": {
     "duration": 0.037402,
     "end_time": "2022-07-05T06:38:23.862105",
     "exception": false,
     "start_time": "2022-07-05T06:38:23.824703",
     "status": "completed"
    },
    "tags": []
   },
   "outputs": [
    {
     "data": {
      "text/plain": [
       "6000"
      ]
     },
     "execution_count": 4,
     "metadata": {},
     "output_type": "execute_result"
    }
   ],
   "source": [
    "len(dataset)"
   ]
  },
  {
   "cell_type": "code",
   "execution_count": 5,
   "id": "a1098279",
   "metadata": {
    "execution": {
     "iopub.execute_input": "2022-07-05T06:38:23.919755Z",
     "iopub.status.busy": "2022-07-05T06:38:23.919560Z",
     "iopub.status.idle": "2022-07-05T06:38:23.933856Z",
     "shell.execute_reply": "2022-07-05T06:38:23.933141Z"
    },
    "papermill": {
     "duration": 0.045289,
     "end_time": "2022-07-05T06:38:23.935446",
     "exception": false,
     "start_time": "2022-07-05T06:38:23.890157",
     "status": "completed"
    },
    "tags": []
   },
   "outputs": [
    {
     "data": {
      "text/html": [
       "<div>\n",
       "<style scoped>\n",
       "    .dataframe tbody tr th:only-of-type {\n",
       "        vertical-align: middle;\n",
       "    }\n",
       "\n",
       "    .dataframe tbody tr th {\n",
       "        vertical-align: top;\n",
       "    }\n",
       "\n",
       "    .dataframe thead th {\n",
       "        text-align: right;\n",
       "    }\n",
       "</style>\n",
       "<table border=\"1\" class=\"dataframe\">\n",
       "  <thead>\n",
       "    <tr style=\"text-align: right;\">\n",
       "      <th></th>\n",
       "      <th>files</th>\n",
       "      <th>target</th>\n",
       "      <th>images</th>\n",
       "    </tr>\n",
       "  </thead>\n",
       "  <tbody>\n",
       "    <tr>\n",
       "      <th>0</th>\n",
       "      <td>../input/fashiondata/data/shoes/5da81ceb7861c2...</td>\n",
       "      <td>shoes</td>\n",
       "      <td>5da81ceb7861c2af6a5a89a7_1.jpg</td>\n",
       "    </tr>\n",
       "    <tr>\n",
       "      <th>1</th>\n",
       "      <td>../input/fashiondata/data/beauty/5da81d8a7861c...</td>\n",
       "      <td>beauty</td>\n",
       "      <td>5da81d8a7861c2af6a5a901c_3.jpg</td>\n",
       "    </tr>\n",
       "    <tr>\n",
       "      <th>2</th>\n",
       "      <td>../input/fashiondata/data/beauty/5da820f26504f...</td>\n",
       "      <td>beauty</td>\n",
       "      <td>5da820f26504fb65da0043e6_0.jpg</td>\n",
       "    </tr>\n",
       "    <tr>\n",
       "      <th>3</th>\n",
       "      <td>../input/fashiondata/data/jewelry and watches/...</td>\n",
       "      <td>jewelry and watches</td>\n",
       "      <td>5da81c026504fb65cea700d2_0.jpg</td>\n",
       "    </tr>\n",
       "    <tr>\n",
       "      <th>4</th>\n",
       "      <td>../input/fashiondata/data/bags/5da81d2c7861c2a...</td>\n",
       "      <td>bags</td>\n",
       "      <td>5da81d2c7861c2af6a5a8c64_2.jpg</td>\n",
       "    </tr>\n",
       "  </tbody>\n",
       "</table>\n",
       "</div>"
      ],
      "text/plain": [
       "                                               files               target  \\\n",
       "0  ../input/fashiondata/data/shoes/5da81ceb7861c2...                shoes   \n",
       "1  ../input/fashiondata/data/beauty/5da81d8a7861c...               beauty   \n",
       "2  ../input/fashiondata/data/beauty/5da820f26504f...               beauty   \n",
       "3  ../input/fashiondata/data/jewelry and watches/...  jewelry and watches   \n",
       "4  ../input/fashiondata/data/bags/5da81d2c7861c2a...                 bags   \n",
       "\n",
       "                           images  \n",
       "0  5da81ceb7861c2af6a5a89a7_1.jpg  \n",
       "1  5da81d8a7861c2af6a5a901c_3.jpg  \n",
       "2  5da820f26504fb65da0043e6_0.jpg  \n",
       "3  5da81c026504fb65cea700d2_0.jpg  \n",
       "4  5da81d2c7861c2af6a5a8c64_2.jpg  "
      ]
     },
     "execution_count": 5,
     "metadata": {},
     "output_type": "execute_result"
    }
   ],
   "source": [
    "dataset[0:5]"
   ]
  },
  {
   "cell_type": "code",
   "execution_count": 6,
   "id": "1c745079",
   "metadata": {
    "execution": {
     "iopub.execute_input": "2022-07-05T06:38:23.993814Z",
     "iopub.status.busy": "2022-07-05T06:38:23.993319Z",
     "iopub.status.idle": "2022-07-05T06:38:24.001577Z",
     "shell.execute_reply": "2022-07-05T06:38:24.000941Z"
    },
    "papermill": {
     "duration": 0.038927,
     "end_time": "2022-07-05T06:38:24.003248",
     "exception": false,
     "start_time": "2022-07-05T06:38:23.964321",
     "status": "completed"
    },
    "tags": []
   },
   "outputs": [
    {
     "data": {
      "text/html": [
       "<div>\n",
       "<style scoped>\n",
       "    .dataframe tbody tr th:only-of-type {\n",
       "        vertical-align: middle;\n",
       "    }\n",
       "\n",
       "    .dataframe tbody tr th {\n",
       "        vertical-align: top;\n",
       "    }\n",
       "\n",
       "    .dataframe thead th {\n",
       "        text-align: right;\n",
       "    }\n",
       "</style>\n",
       "<table border=\"1\" class=\"dataframe\">\n",
       "  <thead>\n",
       "    <tr style=\"text-align: right;\">\n",
       "      <th></th>\n",
       "      <th>files</th>\n",
       "      <th>target</th>\n",
       "      <th>images</th>\n",
       "    </tr>\n",
       "  </thead>\n",
       "  <tbody>\n",
       "    <tr>\n",
       "      <th>0</th>\n",
       "      <td>../input/fashiondata/data/shoes/5da81ceb7861c2...</td>\n",
       "      <td>shoes</td>\n",
       "      <td>5da81ceb7861c2af6a5a89a7_1.jpg</td>\n",
       "    </tr>\n",
       "    <tr>\n",
       "      <th>1</th>\n",
       "      <td>../input/fashiondata/data/beauty/5da81d8a7861c...</td>\n",
       "      <td>beauty</td>\n",
       "      <td>5da81d8a7861c2af6a5a901c_3.jpg</td>\n",
       "    </tr>\n",
       "    <tr>\n",
       "      <th>2</th>\n",
       "      <td>../input/fashiondata/data/beauty/5da820f26504f...</td>\n",
       "      <td>beauty</td>\n",
       "      <td>5da820f26504fb65da0043e6_0.jpg</td>\n",
       "    </tr>\n",
       "    <tr>\n",
       "      <th>3</th>\n",
       "      <td>../input/fashiondata/data/jewelry and watches/...</td>\n",
       "      <td>jewelry and watches</td>\n",
       "      <td>5da81c026504fb65cea700d2_0.jpg</td>\n",
       "    </tr>\n",
       "    <tr>\n",
       "      <th>4</th>\n",
       "      <td>../input/fashiondata/data/bags/5da81d2c7861c2a...</td>\n",
       "      <td>bags</td>\n",
       "      <td>5da81d2c7861c2af6a5a8c64_2.jpg</td>\n",
       "    </tr>\n",
       "  </tbody>\n",
       "</table>\n",
       "</div>"
      ],
      "text/plain": [
       "                                               files               target  \\\n",
       "0  ../input/fashiondata/data/shoes/5da81ceb7861c2...                shoes   \n",
       "1  ../input/fashiondata/data/beauty/5da81d8a7861c...               beauty   \n",
       "2  ../input/fashiondata/data/beauty/5da820f26504f...               beauty   \n",
       "3  ../input/fashiondata/data/jewelry and watches/...  jewelry and watches   \n",
       "4  ../input/fashiondata/data/bags/5da81d2c7861c2a...                 bags   \n",
       "\n",
       "                           images  \n",
       "0  5da81ceb7861c2af6a5a89a7_1.jpg  \n",
       "1  5da81d8a7861c2af6a5a901c_3.jpg  \n",
       "2  5da820f26504fb65da0043e6_0.jpg  \n",
       "3  5da81c026504fb65cea700d2_0.jpg  \n",
       "4  5da81d2c7861c2af6a5a8c64_2.jpg  "
      ]
     },
     "execution_count": 6,
     "metadata": {},
     "output_type": "execute_result"
    }
   ],
   "source": [
    "dataset.head()"
   ]
  },
  {
   "cell_type": "code",
   "execution_count": 7,
   "id": "87e56cd2",
   "metadata": {
    "execution": {
     "iopub.execute_input": "2022-07-05T06:38:24.063684Z",
     "iopub.status.busy": "2022-07-05T06:38:24.063472Z",
     "iopub.status.idle": "2022-07-05T06:38:24.071333Z",
     "shell.execute_reply": "2022-07-05T06:38:24.070707Z"
    },
    "papermill": {
     "duration": 0.040139,
     "end_time": "2022-07-05T06:38:24.072965",
     "exception": false,
     "start_time": "2022-07-05T06:38:24.032826",
     "status": "completed"
    },
    "tags": []
   },
   "outputs": [
    {
     "data": {
      "text/html": [
       "<div>\n",
       "<style scoped>\n",
       "    .dataframe tbody tr th:only-of-type {\n",
       "        vertical-align: middle;\n",
       "    }\n",
       "\n",
       "    .dataframe tbody tr th {\n",
       "        vertical-align: top;\n",
       "    }\n",
       "\n",
       "    .dataframe thead th {\n",
       "        text-align: right;\n",
       "    }\n",
       "</style>\n",
       "<table border=\"1\" class=\"dataframe\">\n",
       "  <thead>\n",
       "    <tr style=\"text-align: right;\">\n",
       "      <th></th>\n",
       "      <th>files</th>\n",
       "      <th>target</th>\n",
       "      <th>images</th>\n",
       "    </tr>\n",
       "  </thead>\n",
       "  <tbody>\n",
       "    <tr>\n",
       "      <th>5995</th>\n",
       "      <td>../input/fashiondata/data/jewelry and watches/...</td>\n",
       "      <td>jewelry and watches</td>\n",
       "      <td>5db865b0d5424ee1f33537b6_2.jpg</td>\n",
       "    </tr>\n",
       "    <tr>\n",
       "      <th>5996</th>\n",
       "      <td>../input/fashiondata/data/bags/5db81154d5424ee...</td>\n",
       "      <td>bags</td>\n",
       "      <td>5db81154d5424ee1f3352f9c_2.jpg</td>\n",
       "    </tr>\n",
       "    <tr>\n",
       "      <th>5997</th>\n",
       "      <td>../input/fashiondata/data/bags/5da81d547861c2a...</td>\n",
       "      <td>bags</td>\n",
       "      <td>5da81d547861c2af6a5a8e7d_2.jpg</td>\n",
       "    </tr>\n",
       "    <tr>\n",
       "      <th>5998</th>\n",
       "      <td>../input/fashiondata/data/beauty/5da81b44b25b0...</td>\n",
       "      <td>beauty</td>\n",
       "      <td>5da81b44b25b035d1d17a692_6.jpg</td>\n",
       "    </tr>\n",
       "    <tr>\n",
       "      <th>5999</th>\n",
       "      <td>../input/fashiondata/data/bags/5db81225d5424ee...</td>\n",
       "      <td>bags</td>\n",
       "      <td>5db81225d5424ee1f335361f_0.jpg</td>\n",
       "    </tr>\n",
       "  </tbody>\n",
       "</table>\n",
       "</div>"
      ],
      "text/plain": [
       "                                                  files               target  \\\n",
       "5995  ../input/fashiondata/data/jewelry and watches/...  jewelry and watches   \n",
       "5996  ../input/fashiondata/data/bags/5db81154d5424ee...                 bags   \n",
       "5997  ../input/fashiondata/data/bags/5da81d547861c2a...                 bags   \n",
       "5998  ../input/fashiondata/data/beauty/5da81b44b25b0...               beauty   \n",
       "5999  ../input/fashiondata/data/bags/5db81225d5424ee...                 bags   \n",
       "\n",
       "                              images  \n",
       "5995  5db865b0d5424ee1f33537b6_2.jpg  \n",
       "5996  5db81154d5424ee1f3352f9c_2.jpg  \n",
       "5997  5da81d547861c2af6a5a8e7d_2.jpg  \n",
       "5998  5da81b44b25b035d1d17a692_6.jpg  \n",
       "5999  5db81225d5424ee1f335361f_0.jpg  "
      ]
     },
     "execution_count": 7,
     "metadata": {},
     "output_type": "execute_result"
    }
   ],
   "source": [
    "dataset.tail()"
   ]
  },
  {
   "cell_type": "code",
   "execution_count": 8,
   "id": "aded79a2",
   "metadata": {
    "execution": {
     "iopub.execute_input": "2022-07-05T06:38:24.133598Z",
     "iopub.status.busy": "2022-07-05T06:38:24.133314Z",
     "iopub.status.idle": "2022-07-05T06:38:24.137640Z",
     "shell.execute_reply": "2022-07-05T06:38:24.137006Z"
    },
    "papermill": {
     "duration": 0.036395,
     "end_time": "2022-07-05T06:38:24.139201",
     "exception": false,
     "start_time": "2022-07-05T06:38:24.102806",
     "status": "completed"
    },
    "tags": []
   },
   "outputs": [
    {
     "data": {
      "text/plain": [
       "(6000, 3)"
      ]
     },
     "execution_count": 8,
     "metadata": {},
     "output_type": "execute_result"
    }
   ],
   "source": [
    "dataset.shape"
   ]
  },
  {
   "cell_type": "code",
   "execution_count": 9,
   "id": "b55a0f2d",
   "metadata": {
    "execution": {
     "iopub.execute_input": "2022-07-05T06:38:24.199313Z",
     "iopub.status.busy": "2022-07-05T06:38:24.198776Z",
     "iopub.status.idle": "2022-07-05T06:38:24.226345Z",
     "shell.execute_reply": "2022-07-05T06:38:24.225713Z"
    },
    "papermill": {
     "duration": 0.059797,
     "end_time": "2022-07-05T06:38:24.228052",
     "exception": false,
     "start_time": "2022-07-05T06:38:24.168255",
     "status": "completed"
    },
    "tags": []
   },
   "outputs": [
    {
     "data": {
      "text/html": [
       "<div>\n",
       "<style scoped>\n",
       "    .dataframe tbody tr th:only-of-type {\n",
       "        vertical-align: middle;\n",
       "    }\n",
       "\n",
       "    .dataframe tbody tr th {\n",
       "        vertical-align: top;\n",
       "    }\n",
       "\n",
       "    .dataframe thead th {\n",
       "        text-align: right;\n",
       "    }\n",
       "</style>\n",
       "<table border=\"1\" class=\"dataframe\">\n",
       "  <thead>\n",
       "    <tr style=\"text-align: right;\">\n",
       "      <th></th>\n",
       "      <th>files</th>\n",
       "      <th>target</th>\n",
       "      <th>images</th>\n",
       "    </tr>\n",
       "  </thead>\n",
       "  <tbody>\n",
       "    <tr>\n",
       "      <th>count</th>\n",
       "      <td>6000</td>\n",
       "      <td>6000</td>\n",
       "      <td>6000</td>\n",
       "    </tr>\n",
       "    <tr>\n",
       "      <th>unique</th>\n",
       "      <td>6000</td>\n",
       "      <td>4</td>\n",
       "      <td>6000</td>\n",
       "    </tr>\n",
       "    <tr>\n",
       "      <th>top</th>\n",
       "      <td>../input/fashiondata/data/shoes/5da81ceb7861c2...</td>\n",
       "      <td>beauty</td>\n",
       "      <td>5da81ceb7861c2af6a5a89a7_1.jpg</td>\n",
       "    </tr>\n",
       "    <tr>\n",
       "      <th>freq</th>\n",
       "      <td>1</td>\n",
       "      <td>1524</td>\n",
       "      <td>1</td>\n",
       "    </tr>\n",
       "  </tbody>\n",
       "</table>\n",
       "</div>"
      ],
      "text/plain": [
       "                                                    files  target  \\\n",
       "count                                                6000    6000   \n",
       "unique                                               6000       4   \n",
       "top     ../input/fashiondata/data/shoes/5da81ceb7861c2...  beauty   \n",
       "freq                                                    1    1524   \n",
       "\n",
       "                                images  \n",
       "count                             6000  \n",
       "unique                            6000  \n",
       "top     5da81ceb7861c2af6a5a89a7_1.jpg  \n",
       "freq                                 1  "
      ]
     },
     "execution_count": 9,
     "metadata": {},
     "output_type": "execute_result"
    }
   ],
   "source": [
    "dataset.describe()"
   ]
  },
  {
   "cell_type": "code",
   "execution_count": 10,
   "id": "7cba00bb",
   "metadata": {
    "execution": {
     "iopub.execute_input": "2022-07-05T06:38:24.289402Z",
     "iopub.status.busy": "2022-07-05T06:38:24.288888Z",
     "iopub.status.idle": "2022-07-05T06:38:24.299535Z",
     "shell.execute_reply": "2022-07-05T06:38:24.298709Z"
    },
    "papermill": {
     "duration": 0.04268,
     "end_time": "2022-07-05T06:38:24.301257",
     "exception": false,
     "start_time": "2022-07-05T06:38:24.258577",
     "status": "completed"
    },
    "tags": []
   },
   "outputs": [
    {
     "data": {
      "text/plain": [
       "files     6000\n",
       "target       4\n",
       "images    6000\n",
       "dtype: int64"
      ]
     },
     "execution_count": 10,
     "metadata": {},
     "output_type": "execute_result"
    }
   ],
   "source": [
    "dataset.nunique()"
   ]
  },
  {
   "cell_type": "code",
   "execution_count": 11,
   "id": "5cfb46f5",
   "metadata": {
    "execution": {
     "iopub.execute_input": "2022-07-05T06:38:24.363639Z",
     "iopub.status.busy": "2022-07-05T06:38:24.362880Z",
     "iopub.status.idle": "2022-07-05T06:38:24.369159Z",
     "shell.execute_reply": "2022-07-05T06:38:24.368444Z"
    },
    "papermill": {
     "duration": 0.039316,
     "end_time": "2022-07-05T06:38:24.370798",
     "exception": false,
     "start_time": "2022-07-05T06:38:24.331482",
     "status": "completed"
    },
    "tags": []
   },
   "outputs": [
    {
     "data": {
      "text/plain": [
       "array(['shoes', 'beauty', 'jewelry and watches', 'bags'], dtype=object)"
      ]
     },
     "execution_count": 11,
     "metadata": {},
     "output_type": "execute_result"
    }
   ],
   "source": [
    "dataset['target'].unique()"
   ]
  },
  {
   "cell_type": "code",
   "execution_count": 12,
   "id": "e8235765",
   "metadata": {
    "execution": {
     "iopub.execute_input": "2022-07-05T06:38:24.434451Z",
     "iopub.status.busy": "2022-07-05T06:38:24.434223Z",
     "iopub.status.idle": "2022-07-05T06:38:24.439688Z",
     "shell.execute_reply": "2022-07-05T06:38:24.439034Z"
    },
    "papermill": {
     "duration": 0.038734,
     "end_time": "2022-07-05T06:38:24.441463",
     "exception": false,
     "start_time": "2022-07-05T06:38:24.402729",
     "status": "completed"
    },
    "tags": []
   },
   "outputs": [
    {
     "data": {
      "text/plain": [
       "4"
      ]
     },
     "execution_count": 12,
     "metadata": {},
     "output_type": "execute_result"
    }
   ],
   "source": [
    "len(dataset['target'].unique())"
   ]
  },
  {
   "cell_type": "code",
   "execution_count": 13,
   "id": "bf682fda",
   "metadata": {
    "execution": {
     "iopub.execute_input": "2022-07-05T06:38:24.506466Z",
     "iopub.status.busy": "2022-07-05T06:38:24.505849Z",
     "iopub.status.idle": "2022-07-05T06:38:24.512845Z",
     "shell.execute_reply": "2022-07-05T06:38:24.512175Z"
    },
    "papermill": {
     "duration": 0.041738,
     "end_time": "2022-07-05T06:38:24.514592",
     "exception": false,
     "start_time": "2022-07-05T06:38:24.472854",
     "status": "completed"
    },
    "tags": []
   },
   "outputs": [
    {
     "data": {
      "text/plain": [
       "beauty                 1524\n",
       "bags                   1508\n",
       "jewelry and watches    1503\n",
       "shoes                  1465\n",
       "Name: target, dtype: int64"
      ]
     },
     "execution_count": 13,
     "metadata": {},
     "output_type": "execute_result"
    }
   ],
   "source": [
    "dataset['target'].value_counts()\n"
   ]
  },
  {
   "cell_type": "code",
   "execution_count": 14,
   "id": "610f0ae6",
   "metadata": {
    "execution": {
     "iopub.execute_input": "2022-07-05T06:38:24.580742Z",
     "iopub.status.busy": "2022-07-05T06:38:24.580039Z",
     "iopub.status.idle": "2022-07-05T06:38:24.803971Z",
     "shell.execute_reply": "2022-07-05T06:38:24.803317Z"
    },
    "papermill": {
     "duration": 0.25921,
     "end_time": "2022-07-05T06:38:24.806005",
     "exception": false,
     "start_time": "2022-07-05T06:38:24.546795",
     "status": "completed"
    },
    "tags": []
   },
   "outputs": [
    {
     "data": {
      "image/png": "[encoded data removed]",
      "text/plain": [
       "<Figure size 864x432 with 1 Axes>"
      ]
     },
     "metadata": {},
     "output_type": "display_data"
    }
   ],
   "source": [
    "sns.set(font_scale=1.5)\n",
    "dataset['target'].value_counts().plot(kind='bar', figsize=(12, 6), rot=0)\n",
    "plt.xlabel(\"product\", labelpad=10)\n",
    "plt.ylabel(\"product count\", labelpad=10)\n",
    "plt.title(\"product count by category\", y=1.02);"
   ]
  },
  {
   "cell_type": "code",
   "execution_count": 15,
   "id": "5c79d471",
   "metadata": {
    "execution": {
     "iopub.execute_input": "2022-07-05T06:38:24.874034Z",
     "iopub.status.busy": "2022-07-05T06:38:24.873825Z",
     "iopub.status.idle": "2022-07-05T06:38:24.877192Z",
     "shell.execute_reply": "2022-07-05T06:38:24.876466Z"
    },
    "papermill": {
     "duration": 0.039102,
     "end_time": "2022-07-05T06:38:24.878814",
     "exception": false,
     "start_time": "2022-07-05T06:38:24.839712",
     "status": "completed"
    },
    "tags": []
   },
   "outputs": [],
   "source": [
    "####resize images\n",
    "IMAGE_SIZE = [224,224]"
   ]
  },
  {
   "cell_type": "code",
   "execution_count": 16,
   "id": "a8bc086a",
   "metadata": {
    "execution": {
     "iopub.execute_input": "2022-07-05T06:38:24.945834Z",
     "iopub.status.busy": "2022-07-05T06:38:24.945145Z",
     "iopub.status.idle": "2022-07-05T06:38:24.949546Z",
     "shell.execute_reply": "2022-07-05T06:38:24.948905Z"
    },
    "papermill": {
     "duration": 0.039319,
     "end_time": "2022-07-05T06:38:24.951127",
     "exception": false,
     "start_time": "2022-07-05T06:38:24.911808",
     "status": "completed"
    },
    "tags": []
   },
   "outputs": [],
   "source": [
    "##Image Preprocessing##\n",
    "def preprocess(im):\n",
    "    im=load_img(i,target_size=(224,224))\n",
    "    im=img_to_array(im)\n",
    "    im=np.expand_dims(im,axis=0)\n",
    "    im=preprocess_input(im)\n",
    "    return im[0]"
   ]
  },
  {
   "cell_type": "code",
   "execution_count": 17,
   "id": "a3ae93e1",
   "metadata": {
    "execution": {
     "iopub.execute_input": "2022-07-05T06:38:25.017699Z",
     "iopub.status.busy": "2022-07-05T06:38:25.016983Z",
     "iopub.status.idle": "2022-07-05T06:38:25.022206Z",
     "shell.execute_reply": "2022-07-05T06:38:25.021566Z"
    },
    "papermill": {
     "duration": 0.04034,
     "end_time": "2022-07-05T06:38:25.023777",
     "exception": false,
     "start_time": "2022-07-05T06:38:24.983437",
     "status": "completed"
    },
    "tags": []
   },
   "outputs": [
    {
     "data": {
      "text/plain": [
       "array([], dtype=float64)"
      ]
     },
     "execution_count": 17,
     "metadata": {},
     "output_type": "execute_result"
    }
   ],
   "source": [
    "images = np.array(Image_list)\n",
    "images"
   ]
  },
  {
   "cell_type": "code",
   "execution_count": 18,
   "id": "0838d77d",
   "metadata": {
    "execution": {
     "iopub.execute_input": "2022-07-05T06:38:25.091776Z",
     "iopub.status.busy": "2022-07-05T06:38:25.091435Z",
     "iopub.status.idle": "2022-07-05T06:38:25.291310Z",
     "shell.execute_reply": "2022-07-05T06:38:25.290664Z"
    },
    "papermill": {
     "duration": 0.235979,
     "end_time": "2022-07-05T06:38:25.293070",
     "exception": false,
     "start_time": "2022-07-05T06:38:25.057091",
     "status": "completed"
    },
    "tags": []
   },
   "outputs": [],
   "source": [
    "data = os.listdir(\"../input/green-deck-image-classification/fashion/fashion\")"
   ]
  },
  {
   "cell_type": "code",
   "execution_count": 19,
   "id": "15c33fb4",
   "metadata": {
    "execution": {
     "iopub.execute_input": "2022-07-05T06:38:25.360856Z",
     "iopub.status.busy": "2022-07-05T06:38:25.360221Z",
     "iopub.status.idle": "2022-07-05T06:38:25.535421Z",
     "shell.execute_reply": "2022-07-05T06:38:25.534683Z"
    },
    "papermill": {
     "duration": 0.212075,
     "end_time": "2022-07-05T06:38:25.537916",
     "exception": false,
     "start_time": "2022-07-05T06:38:25.325841",
     "status": "completed"
    },
    "tags": []
   },
   "outputs": [],
   "source": [
    "from sklearn.model_selection import train_test_split\n",
    "train = df = pd.read_csv('../input/green-deck-image-classification/train.csv')\n",
    "train, test = train_test_split(df, test_size=0.2, random_state=25)"
   ]
  },
  {
   "cell_type": "code",
   "execution_count": 20,
   "id": "34a59c7b",
   "metadata": {
    "execution": {
     "iopub.execute_input": "2022-07-05T06:38:25.617355Z",
     "iopub.status.busy": "2022-07-05T06:38:25.617091Z",
     "iopub.status.idle": "2022-07-05T06:38:29.501540Z",
     "shell.execute_reply": "2022-07-05T06:38:29.500696Z"
    },
    "papermill": {
     "duration": 3.921249,
     "end_time": "2022-07-05T06:38:29.504052",
     "exception": false,
     "start_time": "2022-07-05T06:38:25.582803",
     "status": "completed"
    },
    "tags": []
   },
   "outputs": [
    {
     "name": "stderr",
     "output_type": "stream",
     "text": [
      "2022-07-05 06:38:25.718586: I tensorflow/stream_executor/cuda/cuda_gpu_executor.cc:937] successful NUMA node read from SysFS had negative value (-1), but there must be at least one NUMA node, so returning NUMA node zero\n",
      "2022-07-05 06:38:25.909302: I tensorflow/stream_executor/cuda/cuda_gpu_executor.cc:937] successful NUMA node read from SysFS had negative value (-1), but there must be at least one NUMA node, so returning NUMA node zero\n",
      "2022-07-05 06:38:25.910157: I tensorflow/stream_executor/cuda/cuda_gpu_executor.cc:937] successful NUMA node read from SysFS had negative value (-1), but there must be at least one NUMA node, so returning NUMA node zero\n",
      "2022-07-05 06:38:25.911290: I tensorflow/core/platform/cpu_feature_guard.cc:142] This TensorFlow binary is optimized with oneAPI Deep Neural Network Library (oneDNN) to use the following CPU instructions in performance-critical operations:  AVX2 AVX512F FMA\n",
      "To enable them in other operations, rebuild TensorFlow with the appropriate compiler flags.\n",
      "2022-07-05 06:38:25.911632: I tensorflow/stream_executor/cuda/cuda_gpu_executor.cc:937] successful NUMA node read from SysFS had negative value (-1), but there must be at least one NUMA node, so returning NUMA node zero\n",
      "2022-07-05 06:38:25.912335: I tensorflow/stream_executor/cuda/cuda_gpu_executor.cc:937] successful NUMA node read from SysFS had negative value (-1), but there must be at least one NUMA node, so returning NUMA node zero\n",
      "2022-07-05 06:38:25.913007: I tensorflow/stream_executor/cuda/cuda_gpu_executor.cc:937] successful NUMA node read from SysFS had negative value (-1), but there must be at least one NUMA node, so returning NUMA node zero\n",
      "2022-07-05 06:38:28.207888: I tensorflow/stream_executor/cuda/cuda_gpu_executor.cc:937] successful NUMA node read from SysFS had negative value (-1), but there must be at least one NUMA node, so returning NUMA node zero\n",
      "2022-07-05 06:38:28.208684: I tensorflow/stream_executor/cuda/cuda_gpu_executor.cc:937] successful NUMA node read from SysFS had negative value (-1), but there must be at least one NUMA node, so returning NUMA node zero\n",
      "2022-07-05 06:38:28.209341: I tensorflow/stream_executor/cuda/cuda_gpu_executor.cc:937] successful NUMA node read from SysFS had negative value (-1), but there must be at least one NUMA node, so returning NUMA node zero\n",
      "2022-07-05 06:38:28.210603: I tensorflow/core/common_runtime/gpu/gpu_device.cc:1510] Created device /job:localhost/replica:0/task:0/device:GPU:0 with 15403 MB memory:  -> device: 0, name: Tesla P100-PCIE-16GB, pci bus id: 0000:00:04.0, compute capability: 6.0\n"
     ]
    },
    {
     "name": "stdout",
     "output_type": "stream",
     "text": [
      "Downloading data from https://storage.googleapis.com/tensorflow/keras-applications/vgg19/vgg19_weights_tf_dim_ordering_tf_kernels_notop.h5\n",
      "80142336/80134624 [==============================] - 0s 0us/step\n",
      "80150528/80134624 [==============================] - 0s 0us/step\n"
     ]
    }
   ],
   "source": [
    "##Defining the Pre-Trained Model##\n",
    "vgg =VGG19(include_top=False,pooling='avg',input_shape=(224,224,3))"
   ]
  },
  {
   "cell_type": "code",
   "execution_count": 21,
   "id": "3510e6a4",
   "metadata": {
    "execution": {
     "iopub.execute_input": "2022-07-05T06:38:29.580625Z",
     "iopub.status.busy": "2022-07-05T06:38:29.580352Z",
     "iopub.status.idle": "2022-07-05T06:38:29.585740Z",
     "shell.execute_reply": "2022-07-05T06:38:29.584877Z"
    },
    "papermill": {
     "duration": 0.045152,
     "end_time": "2022-07-05T06:38:29.587441",
     "exception": false,
     "start_time": "2022-07-05T06:38:29.542289",
     "status": "completed"
    },
    "tags": []
   },
   "outputs": [],
   "source": [
    "from tensorflow.keras.preprocessing import image"
   ]
  },
  {
   "cell_type": "code",
   "execution_count": 22,
   "id": "46534718",
   "metadata": {
    "execution": {
     "iopub.execute_input": "2022-07-05T06:38:29.665129Z",
     "iopub.status.busy": "2022-07-05T06:38:29.664443Z",
     "iopub.status.idle": "2022-07-05T06:38:29.672330Z",
     "shell.execute_reply": "2022-07-05T06:38:29.671682Z"
    },
    "papermill": {
     "duration": 0.048562,
     "end_time": "2022-07-05T06:38:29.674205",
     "exception": false,
     "start_time": "2022-07-05T06:38:29.625643",
     "status": "completed"
    },
    "tags": []
   },
   "outputs": [],
   "source": [
    "x = Flatten()(vgg.output)"
   ]
  },
  {
   "cell_type": "code",
   "execution_count": 23,
   "id": "e9dc0fd3",
   "metadata": {
    "execution": {
     "iopub.execute_input": "2022-07-05T06:38:29.750462Z",
     "iopub.status.busy": "2022-07-05T06:38:29.750225Z",
     "iopub.status.idle": "2022-07-05T06:38:29.762135Z",
     "shell.execute_reply": "2022-07-05T06:38:29.761491Z"
    },
    "papermill": {
     "duration": 0.052364,
     "end_time": "2022-07-05T06:38:29.763915",
     "exception": false,
     "start_time": "2022-07-05T06:38:29.711551",
     "status": "completed"
    },
    "tags": []
   },
   "outputs": [],
   "source": [
    "prediction = Dense(len(dataset['target'].unique()), activation = 'softmax') (x)"
   ]
  },
  {
   "cell_type": "code",
   "execution_count": 24,
   "id": "d607ba1d",
   "metadata": {
    "execution": {
     "iopub.execute_input": "2022-07-05T06:38:29.841310Z",
     "iopub.status.busy": "2022-07-05T06:38:29.841060Z",
     "iopub.status.idle": "2022-07-05T06:38:29.849433Z",
     "shell.execute_reply": "2022-07-05T06:38:29.848796Z"
    },
    "papermill": {
     "duration": 0.049905,
     "end_time": "2022-07-05T06:38:29.851305",
     "exception": false,
     "start_time": "2022-07-05T06:38:29.801400",
     "status": "completed"
    },
    "tags": []
   },
   "outputs": [],
   "source": [
    "model = Model(inputs=vgg.input, outputs=prediction)"
   ]
  },
  {
   "cell_type": "code",
   "execution_count": 25,
   "id": "88467009",
   "metadata": {
    "execution": {
     "iopub.execute_input": "2022-07-05T06:38:29.966373Z",
     "iopub.status.busy": "2022-07-05T06:38:29.966128Z",
     "iopub.status.idle": "2022-07-05T06:38:29.983405Z",
     "shell.execute_reply": "2022-07-05T06:38:29.982727Z"
    },
    "papermill": {
     "duration": 0.074977,
     "end_time": "2022-07-05T06:38:29.985111",
     "exception": false,
     "start_time": "2022-07-05T06:38:29.910134",
     "status": "completed"
    },
    "tags": []
   },
   "outputs": [
    {
     "name": "stdout",
     "output_type": "stream",
     "text": [
      "Model: \"model\"\n",
      "_________________________________________________________________\n",
      "Layer (type)                 Output Shape              Param #   \n",
      "=================================================================\n",
      "input_1 (InputLayer)         [(None, 224, 224, 3)]     0         \n",
      "_________________________________________________________________\n",
      "block1_conv1 (Conv2D)        (None, 224, 224, 64)      1792      \n",
      "_________________________________________________________________\n",
      "block1_conv2 (Conv2D)        (None, 224, 224, 64)      36928     \n",
      "_________________________________________________________________\n",
      "block1_pool (MaxPooling2D)   (None, 112, 112, 64)      0         \n",
      "_________________________________________________________________\n",
      "block2_conv1 (Conv2D)        (None, 112, 112, 128)     73856     \n",
      "_________________________________________________________________\n",
      "block2_conv2 (Conv2D)        (None, 112, 112, 128)     147584    \n",
      "_________________________________________________________________\n",
      "block2_pool (MaxPooling2D)   (None, 56, 56, 128)       0         \n",
      "_________________________________________________________________\n",
      "block3_conv1 (Conv2D)        (None, 56, 56, 256)       295168    \n",
      "_________________________________________________________________\n",
      "block3_conv2 (Conv2D)        (None, 56, 56, 256)       590080    \n",
      "_________________________________________________________________\n",
      "block3_conv3 (Conv2D)        (None, 56, 56, 256)       590080    \n",
      "_________________________________________________________________\n",
      "block3_conv4 (Conv2D)        (None, 56, 56, 256)       590080    \n",
      "_________________________________________________________________\n",
      "block3_pool (MaxPooling2D)   (None, 28, 28, 256)       0         \n",
      "_________________________________________________________________\n",
      "block4_conv1 (Conv2D)        (None, 28, 28, 512)       1180160   \n",
      "_________________________________________________________________\n",
      "block4_conv2 (Conv2D)        (None, 28, 28, 512)       2359808   \n",
      "_________________________________________________________________\n",
      "block4_conv3 (Conv2D)        (None, 28, 28, 512)       2359808   \n",
      "_________________________________________________________________\n",
      "block4_conv4 (Conv2D)        (None, 28, 28, 512)       2359808   \n",
      "_________________________________________________________________\n",
      "block4_pool (MaxPooling2D)   (None, 14, 14, 512)       0         \n",
      "_________________________________________________________________\n",
      "block5_conv1 (Conv2D)        (None, 14, 14, 512)       2359808   \n",
      "_________________________________________________________________\n",
      "block5_conv2 (Conv2D)        (None, 14, 14, 512)       2359808   \n",
      "_________________________________________________________________\n",
      "block5_conv3 (Conv2D)        (None, 14, 14, 512)       2359808   \n",
      "_________________________________________________________________\n",
      "block5_conv4 (Conv2D)        (None, 14, 14, 512)       2359808   \n",
      "_________________________________________________________________\n",
      "block5_pool (MaxPooling2D)   (None, 7, 7, 512)         0         \n",
      "_________________________________________________________________\n",
      "global_average_pooling2d (Gl (None, 512)               0         \n",
      "_________________________________________________________________\n",
      "flatten (Flatten)            (None, 512)               0         \n",
      "_________________________________________________________________\n",
      "dense (Dense)                (None, 4)                 2052      \n",
      "=================================================================\n",
      "Total params: 20,026,436\n",
      "Trainable params: 20,026,436\n",
      "Non-trainable params: 0\n",
      "_________________________________________________________________\n"
     ]
    }
   ],
   "source": [
    "model.summary()"
   ]
  },
  {
   "cell_type": "code",
   "execution_count": 26,
   "id": "053a849a",
   "metadata": {
    "execution": {
     "iopub.execute_input": "2022-07-05T06:38:30.062310Z",
     "iopub.status.busy": "2022-07-05T06:38:30.062111Z",
     "iopub.status.idle": "2022-07-05T06:38:30.065888Z",
     "shell.execute_reply": "2022-07-05T06:38:30.065188Z"
    },
    "papermill": {
     "duration": 0.0445,
     "end_time": "2022-07-05T06:38:30.067667",
     "exception": false,
     "start_time": "2022-07-05T06:38:30.023167",
     "status": "completed"
    },
    "tags": []
   },
   "outputs": [],
   "source": [
    "from keras.preprocessing.image import ImageDataGenerator\n",
    "\n",
    "datagen=ImageDataGenerator(rescale=1./255.,validation_split=0.25)"
   ]
  },
  {
   "cell_type": "code",
   "execution_count": 27,
   "id": "7ddba93e",
   "metadata": {
    "execution": {
     "iopub.execute_input": "2022-07-05T06:38:30.142697Z",
     "iopub.status.busy": "2022-07-05T06:38:30.142469Z",
     "iopub.status.idle": "2022-07-05T06:38:39.078406Z",
     "shell.execute_reply": "2022-07-05T06:38:39.077569Z"
    },
    "papermill": {
     "duration": 8.975541,
     "end_time": "2022-07-05T06:38:39.080288",
     "exception": false,
     "start_time": "2022-07-05T06:38:30.104747",
     "status": "completed"
    },
    "tags": []
   },
   "outputs": [
    {
     "name": "stdout",
     "output_type": "stream",
     "text": [
      "Found 3600 validated image filenames belonging to 4 classes.\n",
      "Found 1200 validated image filenames belonging to 4 classes.\n",
      "Found 1200 validated image filenames.\n"
     ]
    }
   ],
   "source": [
    "train_generator= datagen.flow_from_dataframe(\n",
    "dataframe=train,\n",
    "directory=\"../input/green-deck-image-classification/fashion/fashion\",\n",
    "x_col=\"images\",\n",
    "y_col=\"target\",\n",
    "subset=\"training\",\n",
    "batch_size=32,\n",
    "seed=42,\n",
    "shuffle=True,\n",
    "class_mode=\"categorical\",\n",
    "target_size=(32,32))\n",
    "\n",
    "valid_generator= datagen.flow_from_dataframe(\n",
    "dataframe=train,\n",
    "directory=\"../input/green-deck-image-classification/fashion/fashion\",\n",
    "x_col=\"images\",\n",
    "y_col=\"target\",\n",
    "subset=\"validation\",\n",
    "batch_size=32,\n",
    "seed=42,\n",
    "shuffle=True,\n",
    "class_mode=\"categorical\",\n",
    "target_size=(32,32))\n",
    "\n",
    "test_datagen=ImageDataGenerator(rescale=1./255.)\n",
    "\n",
    "test_generator=test_datagen.flow_from_dataframe(\n",
    "dataframe=test,\n",
    "directory=\"../input/green-deck-image-classification/fashion/fashion\",\n",
    "x_col=\"images\",\n",
    "y_col=None,\n",
    "batch_size=32,\n",
    "seed=42,\n",
    "shuffle=False,\n",
    "class_mode=None,\n",
    "target_size=(32,32))"
   ]
  },
  {
   "cell_type": "code",
   "execution_count": 28,
   "id": "2f17a483",
   "metadata": {
    "execution": {
     "iopub.execute_input": "2022-07-05T06:38:39.159285Z",
     "iopub.status.busy": "2022-07-05T06:38:39.158785Z",
     "iopub.status.idle": "2022-07-05T06:38:39.171812Z",
     "shell.execute_reply": "2022-07-05T06:38:39.171172Z"
    },
    "papermill": {
     "duration": 0.05404,
     "end_time": "2022-07-05T06:38:39.173336",
     "exception": false,
     "start_time": "2022-07-05T06:38:39.119296",
     "status": "completed"
    },
    "tags": []
   },
   "outputs": [],
   "source": [
    "##Compiling the model##\n",
    "model.compile(\n",
    "  loss='categorical_crossentropy',\n",
    "  optimizer= 'adam',\n",
    "  metrics=['accuracy']\n",
    ")"
   ]
  },
  {
   "cell_type": "code",
   "execution_count": 29,
   "id": "ec12192c",
   "metadata": {
    "execution": {
     "iopub.execute_input": "2022-07-05T06:38:39.252859Z",
     "iopub.status.busy": "2022-07-05T06:38:39.252268Z",
     "iopub.status.idle": "2022-07-05T06:45:26.347113Z",
     "shell.execute_reply": "2022-07-05T06:45:26.346246Z"
    },
    "papermill": {
     "duration": 407.137064,
     "end_time": "2022-07-05T06:45:26.349144",
     "exception": false,
     "start_time": "2022-07-05T06:38:39.212080",
     "status": "completed"
    },
    "tags": []
   },
   "outputs": [
    {
     "name": "stderr",
     "output_type": "stream",
     "text": [
      "/opt/conda/lib/python3.7/site-packages/keras/engine/training.py:1972: UserWarning: `Model.fit_generator` is deprecated and will be removed in a future version. Please use `Model.fit`, which supports generators.\n",
      "  warnings.warn('`Model.fit_generator` is deprecated and '\n",
      "2022-07-05 06:38:39.521729: I tensorflow/compiler/mlir/mlir_graph_optimization_pass.cc:185] None of the MLIR Optimization Passes are enabled (registered 2)\n"
     ]
    },
    {
     "name": "stdout",
     "output_type": "stream",
     "text": [
      "Epoch 1/20\n"
     ]
    },
    {
     "name": "stderr",
     "output_type": "stream",
     "text": [
      "2022-07-05 06:38:41.899540: I tensorflow/stream_executor/cuda/cuda_dnn.cc:369] Loaded cuDNN version 8005\n"
     ]
    },
    {
     "name": "stdout",
     "output_type": "stream",
     "text": [
      "112/112 [==============================] - 39s 271ms/step - loss: 1.3897 - accuracy: 0.3974 - val_loss: 1.0523 - val_accuracy: 0.5397\n",
      "Epoch 2/20\n",
      "112/112 [==============================] - 14s 125ms/step - loss: 1.0674 - accuracy: 0.5216 - val_loss: 0.9863 - val_accuracy: 0.5625\n",
      "Epoch 3/20\n",
      "112/112 [==============================] - 15s 130ms/step - loss: 0.9092 - accuracy: 0.6270 - val_loss: 0.7867 - val_accuracy: 0.7154\n",
      "Epoch 4/20\n",
      "112/112 [==============================] - 14s 126ms/step - loss: 0.8338 - accuracy: 0.6903 - val_loss: 1.0423 - val_accuracy: 0.5481\n",
      "Epoch 5/20\n",
      "112/112 [==============================] - 14s 125ms/step - loss: 0.7771 - accuracy: 0.7158 - val_loss: 0.7632 - val_accuracy: 0.7449\n",
      "Epoch 6/20\n",
      "112/112 [==============================] - 15s 130ms/step - loss: 0.7199 - accuracy: 0.7601 - val_loss: 0.7878 - val_accuracy: 0.7179\n",
      "Epoch 7/20\n",
      "112/112 [==============================] - 14s 127ms/step - loss: 0.6848 - accuracy: 0.7741 - val_loss: 0.7477 - val_accuracy: 0.7821\n",
      "Epoch 8/20\n",
      "112/112 [==============================] - 14s 126ms/step - loss: 0.6294 - accuracy: 0.7957 - val_loss: 0.5999 - val_accuracy: 0.8159\n",
      "Epoch 9/20\n",
      "112/112 [==============================] - 14s 126ms/step - loss: 0.6303 - accuracy: 0.8038 - val_loss: 0.5869 - val_accuracy: 0.8269\n",
      "Epoch 10/20\n",
      "112/112 [==============================] - 14s 125ms/step - loss: 0.6623 - accuracy: 0.7836 - val_loss: 0.9518 - val_accuracy: 0.6073\n",
      "Epoch 11/20\n",
      "112/112 [==============================] - 15s 131ms/step - loss: 0.6662 - accuracy: 0.7629 - val_loss: 0.5807 - val_accuracy: 0.8243\n",
      "Epoch 12/20\n",
      "112/112 [==============================] - 14s 126ms/step - loss: 0.6723 - accuracy: 0.7797 - val_loss: 0.6743 - val_accuracy: 0.7872\n",
      "Epoch 13/20\n",
      "112/112 [==============================] - 15s 132ms/step - loss: 0.5611 - accuracy: 0.8206 - val_loss: 0.5987 - val_accuracy: 0.8429\n",
      "Epoch 14/20\n",
      "112/112 [==============================] - 14s 126ms/step - loss: 0.4229 - accuracy: 0.8672 - val_loss: 0.5763 - val_accuracy: 0.8243\n",
      "Epoch 15/20\n",
      "112/112 [==============================] - 14s 128ms/step - loss: 0.4856 - accuracy: 0.8439 - val_loss: 0.4647 - val_accuracy: 0.8598\n",
      "Epoch 16/20\n",
      "112/112 [==============================] - 15s 130ms/step - loss: 0.3397 - accuracy: 0.8952 - val_loss: 0.5893 - val_accuracy: 0.8674\n",
      "Epoch 17/20\n",
      "112/112 [==============================] - 14s 128ms/step - loss: 0.2988 - accuracy: 0.9086 - val_loss: 0.5142 - val_accuracy: 0.8640\n",
      "Epoch 18/20\n",
      "112/112 [==============================] - 15s 131ms/step - loss: 0.3690 - accuracy: 0.8915 - val_loss: 0.5343 - val_accuracy: 0.8573\n",
      "Epoch 19/20\n",
      "112/112 [==============================] - 15s 132ms/step - loss: 0.3577 - accuracy: 0.8913 - val_loss: 0.3452 - val_accuracy: 0.8877\n",
      "Epoch 20/20\n",
      "112/112 [==============================] - 15s 130ms/step - loss: 0.5082 - accuracy: 0.8447 - val_loss: 0.6010 - val_accuracy: 0.8336\n"
     ]
    }
   ],
   "source": [
    "##Fitting the Model##\n",
    "r = model.fit_generator(\n",
    "    train_generator,\n",
    "    steps_per_epoch=train_generator.samples//train_generator.batch_size,\n",
    "    epochs=20,\n",
    "    validation_data=valid_generator, validation_steps=valid_generator.samples//valid_generator.batch_size,\n",
    "    verbose=1)"
   ]
  },
  {
   "cell_type": "markdown",
   "id": "a6372707",
   "metadata": {
    "papermill": {
     "duration": 0.730401,
     "end_time": "2022-07-05T06:45:28.075544",
     "exception": false,
     "start_time": "2022-07-05T06:45:27.345143",
     "status": "completed"
    },
    "tags": []
   },
   "source": [
    "**Plotting the loss graph for train and val sets**"
   ]
  },
  {
   "cell_type": "code",
   "execution_count": 30,
   "id": "80dcd0a1",
   "metadata": {
    "execution": {
     "iopub.execute_input": "2022-07-05T06:45:29.600306Z",
     "iopub.status.busy": "2022-07-05T06:45:29.599562Z",
     "iopub.status.idle": "2022-07-05T06:45:29.814406Z",
     "shell.execute_reply": "2022-07-05T06:45:29.813579Z"
    },
    "papermill": {
     "duration": 1.003312,
     "end_time": "2022-07-05T06:45:29.816303",
     "exception": false,
     "start_time": "2022-07-05T06:45:28.812991",
     "status": "completed"
    },
    "tags": []
   },
   "outputs": [
    {
     "data": {
      "image/png": "[encoded data removed]",
      "text/plain": [
       "<Figure size 432x288 with 1 Axes>"
      ]
     },
     "metadata": {},
     "output_type": "display_data"
    },
    {
     "data": {
      "text/plain": [
       "<Figure size 432x288 with 0 Axes>"
      ]
     },
     "metadata": {},
     "output_type": "display_data"
    }
   ],
   "source": [
    "plt.plot(r.history['loss'], label='train loss')\n",
    "plt.plot(r.history['val_loss'], label='val loss')\n",
    "plt.legend()\n",
    "plt.show()\n",
    "plt.savefig('LossVal_loss')"
   ]
  },
  {
   "cell_type": "markdown",
   "id": "ca102756",
   "metadata": {
    "papermill": {
     "duration": 0.745801,
     "end_time": "2022-07-05T06:45:31.316526",
     "exception": false,
     "start_time": "2022-07-05T06:45:30.570725",
     "status": "completed"
    },
    "tags": []
   },
   "source": [
    "**Plotting the accuracy graph for train and val sets**"
   ]
  },
  {
   "cell_type": "code",
   "execution_count": 31,
   "id": "b07a6479",
   "metadata": {
    "execution": {
     "iopub.execute_input": "2022-07-05T06:45:32.785422Z",
     "iopub.status.busy": "2022-07-05T06:45:32.784894Z",
     "iopub.status.idle": "2022-07-05T06:45:33.004099Z",
     "shell.execute_reply": "2022-07-05T06:45:33.003347Z"
    },
    "papermill": {
     "duration": 0.957591,
     "end_time": "2022-07-05T06:45:33.005811",
     "exception": false,
     "start_time": "2022-07-05T06:45:32.048220",
     "status": "completed"
    },
    "tags": []
   },
   "outputs": [
    {
     "data": {
      "image/png": "[encoded data removed]",
      "text/plain": [
       "<Figure size 432x288 with 1 Axes>"
      ]
     },
     "metadata": {},
     "output_type": "display_data"
    },
    {
     "data": {
      "text/plain": [
       "<Figure size 432x288 with 0 Axes>"
      ]
     },
     "metadata": {},
     "output_type": "display_data"
    }
   ],
   "source": [
    "plt.plot(r.history['accuracy'], label='train acc')\n",
    "plt.plot(r.history['val_accuracy'], label='val acc')\n",
    "plt.legend()\n",
    "plt.show()\n",
    "plt.savefig('AccVal_acc')"
   ]
  },
  {
   "cell_type": "code",
   "execution_count": 32,
   "id": "ac970706",
   "metadata": {
    "execution": {
     "iopub.execute_input": "2022-07-05T06:45:34.473141Z",
     "iopub.status.busy": "2022-07-05T06:45:34.472438Z",
     "iopub.status.idle": "2022-07-05T06:45:35.095426Z",
     "shell.execute_reply": "2022-07-05T06:45:35.094630Z"
    },
    "papermill": {
     "duration": 1.359578,
     "end_time": "2022-07-05T06:45:35.097449",
     "exception": false,
     "start_time": "2022-07-05T06:45:33.737871",
     "status": "completed"
    },
    "tags": []
   },
   "outputs": [],
   "source": [
    "import tensorflow as tf\n",
    "\n",
    "from keras.models import load_model\n",
    "\n",
    "model.save('greendeck_new_model.h5')"
   ]
  }
 ],
 "metadata": {
  "kernelspec": {
   "display_name": "Python 3",
   "language": "python",
   "name": "python3"
  },
  "language_info": {
   "codemirror_mode": {
    "name": "ipython",
    "version": 3
   },
   "file_extension": ".py",
   "mimetype": "text/x-python",
   "name": "python",
   "nbconvert_exporter": "python",
   "pygments_lexer": "ipython3",
   "version": "3.7.12"
  },
  "papermill": {
   "default_parameters": {},
   "duration": 450.974312,
   "end_time": "2022-07-05T06:45:39.402447",
   "environment_variables": {},
   "exception": null,
   "input_path": "__notebook__.ipynb",
   "output_path": "__notebook__.ipynb",
   "parameters": {},
   "start_time": "2022-07-05T06:38:08.428135",
   "version": "2.3.4"
  }
 },
 "nbformat": 4,
 "nbformat_minor": 5
}
