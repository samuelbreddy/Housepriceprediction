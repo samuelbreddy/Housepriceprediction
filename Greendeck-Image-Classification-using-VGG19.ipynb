{
 "cells": [
  {
   "cell_type": "code",
   "execution_count": 1,
   "id": "9a95df13",
   "metadata": {
    "_cell_guid": "b1076dfc-b9ad-4769-8c92-a6c4dae69d19",
    "_uuid": "8f2839f25d086af736a60e9eeb907d3b93b6e0e5",
    "execution": {
     "iopub.execute_input": "2022-07-01T16:17:00.499851Z",
     "iopub.status.busy": "2022-07-01T16:17:00.498028Z",
     "iopub.status.idle": "2022-07-01T16:17:07.847693Z",
     "shell.execute_reply": "2022-07-01T16:17:07.846644Z"
    },
    "papermill": {
     "duration": 7.418568,
     "end_time": "2022-07-01T16:17:07.850564",
     "exception": false,
     "start_time": "2022-07-01T16:17:00.431996",
     "status": "completed"
    },
    "tags": []
   },
   "outputs": [],
   "source": [
    "import numpy as np \n",
    "import os\n",
    "import seaborn as sns\n",
    "import pandas as pd \n",
    "import matplotlib.pyplot as plt\n",
    "%matplotlib inline\n",
    "import cv2\n",
    "import glob\n",
    "\n",
    " \n",
    "# Importing Keras libraries\n",
    "from keras.utils import np_utils\n",
    "from keras.models import Sequential\n",
    "from keras.applications import imagenet_utils\n",
    "from keras.callbacks import ModelCheckpoint\n",
    "from keras.applications.vgg19 import VGG19\n",
    "from keras.applications.vgg19 import preprocess_input\n",
    "from keras.preprocessing.image import load_img\n",
    "from keras.preprocessing.image import img_to_array\n",
    "from keras.layers import Dense, Conv2D, MaxPooling2D\n",
    "from keras.layers import Dropout, Flatten, GlobalAveragePooling2D\n",
    "from tensorflow.keras.layers import Input, Lambda, Dense, Flatten\n",
    "from keras.models import Model\n",
    " \n",
    "for dirname, _, filenames in os.walk('C:\\\\Users\\\\samue\\\\Downloads\\\\Green deck image classification (1)'):\n",
    "    for filename in filenames:\n",
    "        print(os.path.join('../input/green-deck-image-classification/fashion/fashion', 'train.csv'))"
   ]
  },
  {
   "cell_type": "code",
   "execution_count": 2,
   "id": "1e28bb6c",
   "metadata": {
    "execution": {
     "iopub.execute_input": "2022-07-01T16:17:07.923135Z",
     "iopub.status.busy": "2022-07-01T16:17:07.922904Z",
     "iopub.status.idle": "2022-07-01T16:17:07.937767Z",
     "shell.execute_reply": "2022-07-01T16:17:07.936814Z"
    },
    "papermill": {
     "duration": 0.052749,
     "end_time": "2022-07-01T16:17:07.940008",
     "exception": false,
     "start_time": "2022-07-01T16:17:07.887259",
     "status": "completed"
    },
    "tags": []
   },
   "outputs": [],
   "source": [
    "os.listdir('../input/green-deck-image-classification/fashion')\n",
    "import glob\n",
    "Image_list=glob.glob('../input/green-deck-image-classification/fashion/*.jpg',recursive=True)\n",
    "\n"
   ]
  },
  {
   "cell_type": "code",
   "execution_count": 3,
   "id": "dd43ea1c",
   "metadata": {
    "execution": {
     "iopub.execute_input": "2022-07-01T16:17:08.026285Z",
     "iopub.status.busy": "2022-07-01T16:17:08.025381Z",
     "iopub.status.idle": "2022-07-01T16:17:08.063286Z",
     "shell.execute_reply": "2022-07-01T16:17:08.062429Z"
    },
    "papermill": {
     "duration": 0.078702,
     "end_time": "2022-07-01T16:17:08.065934",
     "exception": false,
     "start_time": "2022-07-01T16:17:07.987232",
     "status": "completed"
    },
    "tags": []
   },
   "outputs": [],
   "source": [
    "dataset = pd.read_csv('../input/green-deck-image-classification/train.csv')\n"
   ]
  },
  {
   "cell_type": "code",
   "execution_count": 4,
   "id": "641e7dac",
   "metadata": {
    "execution": {
     "iopub.execute_input": "2022-07-01T16:17:08.137206Z",
     "iopub.status.busy": "2022-07-01T16:17:08.136957Z",
     "iopub.status.idle": "2022-07-01T16:17:08.145605Z",
     "shell.execute_reply": "2022-07-01T16:17:08.144614Z"
    },
    "papermill": {
     "duration": 0.04735,
     "end_time": "2022-07-01T16:17:08.148776",
     "exception": false,
     "start_time": "2022-07-01T16:17:08.101426",
     "status": "completed"
    },
    "tags": []
   },
   "outputs": [
    {
     "data": {
      "text/plain": [
       "6000"
      ]
     },
     "execution_count": 4,
     "metadata": {},
     "output_type": "execute_result"
    }
   ],
   "source": [
    "len(dataset)"
   ]
  },
  {
   "cell_type": "code",
   "execution_count": 5,
   "id": "40586509",
   "metadata": {
    "execution": {
     "iopub.execute_input": "2022-07-01T16:17:08.223222Z",
     "iopub.status.busy": "2022-07-01T16:17:08.222953Z",
     "iopub.status.idle": "2022-07-01T16:17:08.243794Z",
     "shell.execute_reply": "2022-07-01T16:17:08.242826Z"
    },
    "papermill": {
     "duration": 0.060633,
     "end_time": "2022-07-01T16:17:08.245862",
     "exception": false,
     "start_time": "2022-07-01T16:17:08.185229",
     "status": "completed"
    },
    "tags": []
   },
   "outputs": [
    {
     "data": {
      "text/html": [
       "<div>\n",
       "<style scoped>\n",
       "    .dataframe tbody tr th:only-of-type {\n",
       "        vertical-align: middle;\n",
       "    }\n",
       "\n",
       "    .dataframe tbody tr th {\n",
       "        vertical-align: top;\n",
       "    }\n",
       "\n",
       "    .dataframe thead th {\n",
       "        text-align: right;\n",
       "    }\n",
       "</style>\n",
       "<table border=\"1\" class=\"dataframe\">\n",
       "  <thead>\n",
       "    <tr style=\"text-align: right;\">\n",
       "      <th></th>\n",
       "      <th>files</th>\n",
       "      <th>target</th>\n",
       "      <th>images</th>\n",
       "    </tr>\n",
       "  </thead>\n",
       "  <tbody>\n",
       "    <tr>\n",
       "      <th>0</th>\n",
       "      <td>../input/fashiondata/data/shoes/5da81ceb7861c2...</td>\n",
       "      <td>shoes</td>\n",
       "      <td>5da81ceb7861c2af6a5a89a7_1.jpg</td>\n",
       "    </tr>\n",
       "    <tr>\n",
       "      <th>1</th>\n",
       "      <td>../input/fashiondata/data/beauty/5da81d8a7861c...</td>\n",
       "      <td>beauty</td>\n",
       "      <td>5da81d8a7861c2af6a5a901c_3.jpg</td>\n",
       "    </tr>\n",
       "    <tr>\n",
       "      <th>2</th>\n",
       "      <td>../input/fashiondata/data/beauty/5da820f26504f...</td>\n",
       "      <td>beauty</td>\n",
       "      <td>5da820f26504fb65da0043e6_0.jpg</td>\n",
       "    </tr>\n",
       "    <tr>\n",
       "      <th>3</th>\n",
       "      <td>../input/fashiondata/data/jewelry and watches/...</td>\n",
       "      <td>jewelry and watches</td>\n",
       "      <td>5da81c026504fb65cea700d2_0.jpg</td>\n",
       "    </tr>\n",
       "    <tr>\n",
       "      <th>4</th>\n",
       "      <td>../input/fashiondata/data/bags/5da81d2c7861c2a...</td>\n",
       "      <td>bags</td>\n",
       "      <td>5da81d2c7861c2af6a5a8c64_2.jpg</td>\n",
       "    </tr>\n",
       "  </tbody>\n",
       "</table>\n",
       "</div>"
      ],
      "text/plain": [
       "                                               files               target  \\\n",
       "0  ../input/fashiondata/data/shoes/5da81ceb7861c2...                shoes   \n",
       "1  ../input/fashiondata/data/beauty/5da81d8a7861c...               beauty   \n",
       "2  ../input/fashiondata/data/beauty/5da820f26504f...               beauty   \n",
       "3  ../input/fashiondata/data/jewelry and watches/...  jewelry and watches   \n",
       "4  ../input/fashiondata/data/bags/5da81d2c7861c2a...                 bags   \n",
       "\n",
       "                           images  \n",
       "0  5da81ceb7861c2af6a5a89a7_1.jpg  \n",
       "1  5da81d8a7861c2af6a5a901c_3.jpg  \n",
       "2  5da820f26504fb65da0043e6_0.jpg  \n",
       "3  5da81c026504fb65cea700d2_0.jpg  \n",
       "4  5da81d2c7861c2af6a5a8c64_2.jpg  "
      ]
     },
     "execution_count": 5,
     "metadata": {},
     "output_type": "execute_result"
    }
   ],
   "source": [
    "dataset[0:5]"
   ]
  },
  {
   "cell_type": "code",
   "execution_count": 6,
   "id": "33dc1e2e",
   "metadata": {
    "execution": {
     "iopub.execute_input": "2022-07-01T16:17:08.319705Z",
     "iopub.status.busy": "2022-07-01T16:17:08.319440Z",
     "iopub.status.idle": "2022-07-01T16:17:08.330155Z",
     "shell.execute_reply": "2022-07-01T16:17:08.329229Z"
    },
    "papermill": {
     "duration": 0.050235,
     "end_time": "2022-07-01T16:17:08.332430",
     "exception": false,
     "start_time": "2022-07-01T16:17:08.282195",
     "status": "completed"
    },
    "tags": []
   },
   "outputs": [
    {
     "data": {
      "text/html": [
       "<div>\n",
       "<style scoped>\n",
       "    .dataframe tbody tr th:only-of-type {\n",
       "        vertical-align: middle;\n",
       "    }\n",
       "\n",
       "    .dataframe tbody tr th {\n",
       "        vertical-align: top;\n",
       "    }\n",
       "\n",
       "    .dataframe thead th {\n",
       "        text-align: right;\n",
       "    }\n",
       "</style>\n",
       "<table border=\"1\" class=\"dataframe\">\n",
       "  <thead>\n",
       "    <tr style=\"text-align: right;\">\n",
       "      <th></th>\n",
       "      <th>files</th>\n",
       "      <th>target</th>\n",
       "      <th>images</th>\n",
       "    </tr>\n",
       "  </thead>\n",
       "  <tbody>\n",
       "    <tr>\n",
       "      <th>0</th>\n",
       "      <td>../input/fashiondata/data/shoes/5da81ceb7861c2...</td>\n",
       "      <td>shoes</td>\n",
       "      <td>5da81ceb7861c2af6a5a89a7_1.jpg</td>\n",
       "    </tr>\n",
       "    <tr>\n",
       "      <th>1</th>\n",
       "      <td>../input/fashiondata/data/beauty/5da81d8a7861c...</td>\n",
       "      <td>beauty</td>\n",
       "      <td>5da81d8a7861c2af6a5a901c_3.jpg</td>\n",
       "    </tr>\n",
       "    <tr>\n",
       "      <th>2</th>\n",
       "      <td>../input/fashiondata/data/beauty/5da820f26504f...</td>\n",
       "      <td>beauty</td>\n",
       "      <td>5da820f26504fb65da0043e6_0.jpg</td>\n",
       "    </tr>\n",
       "    <tr>\n",
       "      <th>3</th>\n",
       "      <td>../input/fashiondata/data/jewelry and watches/...</td>\n",
       "      <td>jewelry and watches</td>\n",
       "      <td>5da81c026504fb65cea700d2_0.jpg</td>\n",
       "    </tr>\n",
       "    <tr>\n",
       "      <th>4</th>\n",
       "      <td>../input/fashiondata/data/bags/5da81d2c7861c2a...</td>\n",
       "      <td>bags</td>\n",
       "      <td>5da81d2c7861c2af6a5a8c64_2.jpg</td>\n",
       "    </tr>\n",
       "  </tbody>\n",
       "</table>\n",
       "</div>"
      ],
      "text/plain": [
       "                                               files               target  \\\n",
       "0  ../input/fashiondata/data/shoes/5da81ceb7861c2...                shoes   \n",
       "1  ../input/fashiondata/data/beauty/5da81d8a7861c...               beauty   \n",
       "2  ../input/fashiondata/data/beauty/5da820f26504f...               beauty   \n",
       "3  ../input/fashiondata/data/jewelry and watches/...  jewelry and watches   \n",
       "4  ../input/fashiondata/data/bags/5da81d2c7861c2a...                 bags   \n",
       "\n",
       "                           images  \n",
       "0  5da81ceb7861c2af6a5a89a7_1.jpg  \n",
       "1  5da81d8a7861c2af6a5a901c_3.jpg  \n",
       "2  5da820f26504fb65da0043e6_0.jpg  \n",
       "3  5da81c026504fb65cea700d2_0.jpg  \n",
       "4  5da81d2c7861c2af6a5a8c64_2.jpg  "
      ]
     },
     "execution_count": 6,
     "metadata": {},
     "output_type": "execute_result"
    }
   ],
   "source": [
    "dataset.head()"
   ]
  },
  {
   "cell_type": "code",
   "execution_count": 7,
   "id": "ef40538a",
   "metadata": {
    "execution": {
     "iopub.execute_input": "2022-07-01T16:17:08.407905Z",
     "iopub.status.busy": "2022-07-01T16:17:08.407155Z",
     "iopub.status.idle": "2022-07-01T16:17:08.417959Z",
     "shell.execute_reply": "2022-07-01T16:17:08.416941Z"
    },
    "papermill": {
     "duration": 0.051529,
     "end_time": "2022-07-01T16:17:08.420588",
     "exception": false,
     "start_time": "2022-07-01T16:17:08.369059",
     "status": "completed"
    },
    "tags": []
   },
   "outputs": [
    {
     "data": {
      "text/html": [
       "<div>\n",
       "<style scoped>\n",
       "    .dataframe tbody tr th:only-of-type {\n",
       "        vertical-align: middle;\n",
       "    }\n",
       "\n",
       "    .dataframe tbody tr th {\n",
       "        vertical-align: top;\n",
       "    }\n",
       "\n",
       "    .dataframe thead th {\n",
       "        text-align: right;\n",
       "    }\n",
       "</style>\n",
       "<table border=\"1\" class=\"dataframe\">\n",
       "  <thead>\n",
       "    <tr style=\"text-align: right;\">\n",
       "      <th></th>\n",
       "      <th>files</th>\n",
       "      <th>target</th>\n",
       "      <th>images</th>\n",
       "    </tr>\n",
       "  </thead>\n",
       "  <tbody>\n",
       "    <tr>\n",
       "      <th>5995</th>\n",
       "      <td>../input/fashiondata/data/jewelry and watches/...</td>\n",
       "      <td>jewelry and watches</td>\n",
       "      <td>5db865b0d5424ee1f33537b6_2.jpg</td>\n",
       "    </tr>\n",
       "    <tr>\n",
       "      <th>5996</th>\n",
       "      <td>../input/fashiondata/data/bags/5db81154d5424ee...</td>\n",
       "      <td>bags</td>\n",
       "      <td>5db81154d5424ee1f3352f9c_2.jpg</td>\n",
       "    </tr>\n",
       "    <tr>\n",
       "      <th>5997</th>\n",
       "      <td>../input/fashiondata/data/bags/5da81d547861c2a...</td>\n",
       "      <td>bags</td>\n",
       "      <td>5da81d547861c2af6a5a8e7d_2.jpg</td>\n",
       "    </tr>\n",
       "    <tr>\n",
       "      <th>5998</th>\n",
       "      <td>../input/fashiondata/data/beauty/5da81b44b25b0...</td>\n",
       "      <td>beauty</td>\n",
       "      <td>5da81b44b25b035d1d17a692_6.jpg</td>\n",
       "    </tr>\n",
       "    <tr>\n",
       "      <th>5999</th>\n",
       "      <td>../input/fashiondata/data/bags/5db81225d5424ee...</td>\n",
       "      <td>bags</td>\n",
       "      <td>5db81225d5424ee1f335361f_0.jpg</td>\n",
       "    </tr>\n",
       "  </tbody>\n",
       "</table>\n",
       "</div>"
      ],
      "text/plain": [
       "                                                  files               target  \\\n",
       "5995  ../input/fashiondata/data/jewelry and watches/...  jewelry and watches   \n",
       "5996  ../input/fashiondata/data/bags/5db81154d5424ee...                 bags   \n",
       "5997  ../input/fashiondata/data/bags/5da81d547861c2a...                 bags   \n",
       "5998  ../input/fashiondata/data/beauty/5da81b44b25b0...               beauty   \n",
       "5999  ../input/fashiondata/data/bags/5db81225d5424ee...                 bags   \n",
       "\n",
       "                              images  \n",
       "5995  5db865b0d5424ee1f33537b6_2.jpg  \n",
       "5996  5db81154d5424ee1f3352f9c_2.jpg  \n",
       "5997  5da81d547861c2af6a5a8e7d_2.jpg  \n",
       "5998  5da81b44b25b035d1d17a692_6.jpg  \n",
       "5999  5db81225d5424ee1f335361f_0.jpg  "
      ]
     },
     "execution_count": 7,
     "metadata": {},
     "output_type": "execute_result"
    }
   ],
   "source": [
    "dataset.tail()"
   ]
  },
  {
   "cell_type": "code",
   "execution_count": 8,
   "id": "402fca14",
   "metadata": {
    "execution": {
     "iopub.execute_input": "2022-07-01T16:17:08.497096Z",
     "iopub.status.busy": "2022-07-01T16:17:08.496864Z",
     "iopub.status.idle": "2022-07-01T16:17:08.502666Z",
     "shell.execute_reply": "2022-07-01T16:17:08.501714Z"
    },
    "papermill": {
     "duration": 0.046141,
     "end_time": "2022-07-01T16:17:08.504958",
     "exception": false,
     "start_time": "2022-07-01T16:17:08.458817",
     "status": "completed"
    },
    "tags": []
   },
   "outputs": [
    {
     "data": {
      "text/plain": [
       "(6000, 3)"
      ]
     },
     "execution_count": 8,
     "metadata": {},
     "output_type": "execute_result"
    }
   ],
   "source": [
    "dataset.shape"
   ]
  },
  {
   "cell_type": "code",
   "execution_count": 9,
   "id": "2567ee68",
   "metadata": {
    "execution": {
     "iopub.execute_input": "2022-07-01T16:17:08.581709Z",
     "iopub.status.busy": "2022-07-01T16:17:08.581471Z",
     "iopub.status.idle": "2022-07-01T16:17:08.616016Z",
     "shell.execute_reply": "2022-07-01T16:17:08.615009Z"
    },
    "papermill": {
     "duration": 0.075845,
     "end_time": "2022-07-01T16:17:08.618391",
     "exception": false,
     "start_time": "2022-07-01T16:17:08.542546",
     "status": "completed"
    },
    "tags": []
   },
   "outputs": [
    {
     "data": {
      "text/html": [
       "<div>\n",
       "<style scoped>\n",
       "    .dataframe tbody tr th:only-of-type {\n",
       "        vertical-align: middle;\n",
       "    }\n",
       "\n",
       "    .dataframe tbody tr th {\n",
       "        vertical-align: top;\n",
       "    }\n",
       "\n",
       "    .dataframe thead th {\n",
       "        text-align: right;\n",
       "    }\n",
       "</style>\n",
       "<table border=\"1\" class=\"dataframe\">\n",
       "  <thead>\n",
       "    <tr style=\"text-align: right;\">\n",
       "      <th></th>\n",
       "      <th>files</th>\n",
       "      <th>target</th>\n",
       "      <th>images</th>\n",
       "    </tr>\n",
       "  </thead>\n",
       "  <tbody>\n",
       "    <tr>\n",
       "      <th>count</th>\n",
       "      <td>6000</td>\n",
       "      <td>6000</td>\n",
       "      <td>6000</td>\n",
       "    </tr>\n",
       "    <tr>\n",
       "      <th>unique</th>\n",
       "      <td>6000</td>\n",
       "      <td>4</td>\n",
       "      <td>6000</td>\n",
       "    </tr>\n",
       "    <tr>\n",
       "      <th>top</th>\n",
       "      <td>../input/fashiondata/data/shoes/5da81ceb7861c2...</td>\n",
       "      <td>beauty</td>\n",
       "      <td>5da81ceb7861c2af6a5a89a7_1.jpg</td>\n",
       "    </tr>\n",
       "    <tr>\n",
       "      <th>freq</th>\n",
       "      <td>1</td>\n",
       "      <td>1524</td>\n",
       "      <td>1</td>\n",
       "    </tr>\n",
       "  </tbody>\n",
       "</table>\n",
       "</div>"
      ],
      "text/plain": [
       "                                                    files  target  \\\n",
       "count                                                6000    6000   \n",
       "unique                                               6000       4   \n",
       "top     ../input/fashiondata/data/shoes/5da81ceb7861c2...  beauty   \n",
       "freq                                                    1    1524   \n",
       "\n",
       "                                images  \n",
       "count                             6000  \n",
       "unique                            6000  \n",
       "top     5da81ceb7861c2af6a5a89a7_1.jpg  \n",
       "freq                                 1  "
      ]
     },
     "execution_count": 9,
     "metadata": {},
     "output_type": "execute_result"
    }
   ],
   "source": [
    "dataset.describe()"
   ]
  },
  {
   "cell_type": "code",
   "execution_count": 10,
   "id": "5bad47e1",
   "metadata": {
    "execution": {
     "iopub.execute_input": "2022-07-01T16:17:08.696431Z",
     "iopub.status.busy": "2022-07-01T16:17:08.696138Z",
     "iopub.status.idle": "2022-07-01T16:17:08.708428Z",
     "shell.execute_reply": "2022-07-01T16:17:08.707458Z"
    },
    "papermill": {
     "duration": 0.053661,
     "end_time": "2022-07-01T16:17:08.710556",
     "exception": false,
     "start_time": "2022-07-01T16:17:08.656895",
     "status": "completed"
    },
    "tags": []
   },
   "outputs": [
    {
     "data": {
      "text/plain": [
       "files     6000\n",
       "target       4\n",
       "images    6000\n",
       "dtype: int64"
      ]
     },
     "execution_count": 10,
     "metadata": {},
     "output_type": "execute_result"
    }
   ],
   "source": [
    "dataset.nunique()"
   ]
  },
  {
   "cell_type": "code",
   "execution_count": 11,
   "id": "51c2f849",
   "metadata": {
    "execution": {
     "iopub.execute_input": "2022-07-01T16:17:08.789078Z",
     "iopub.status.busy": "2022-07-01T16:17:08.788840Z",
     "iopub.status.idle": "2022-07-01T16:17:08.795771Z",
     "shell.execute_reply": "2022-07-01T16:17:08.794749Z"
    },
    "papermill": {
     "duration": 0.048787,
     "end_time": "2022-07-01T16:17:08.797994",
     "exception": false,
     "start_time": "2022-07-01T16:17:08.749207",
     "status": "completed"
    },
    "tags": []
   },
   "outputs": [
    {
     "data": {
      "text/plain": [
       "array(['shoes', 'beauty', 'jewelry and watches', 'bags'], dtype=object)"
      ]
     },
     "execution_count": 11,
     "metadata": {},
     "output_type": "execute_result"
    }
   ],
   "source": [
    "dataset['target'].unique()"
   ]
  },
  {
   "cell_type": "code",
   "execution_count": 12,
   "id": "f92c4d46",
   "metadata": {
    "execution": {
     "iopub.execute_input": "2022-07-01T16:17:08.878270Z",
     "iopub.status.busy": "2022-07-01T16:17:08.878035Z",
     "iopub.status.idle": "2022-07-01T16:17:08.884870Z",
     "shell.execute_reply": "2022-07-01T16:17:08.883789Z"
    },
    "papermill": {
     "duration": 0.049816,
     "end_time": "2022-07-01T16:17:08.887035",
     "exception": false,
     "start_time": "2022-07-01T16:17:08.837219",
     "status": "completed"
    },
    "tags": []
   },
   "outputs": [
    {
     "data": {
      "text/plain": [
       "4"
      ]
     },
     "execution_count": 12,
     "metadata": {},
     "output_type": "execute_result"
    }
   ],
   "source": [
    "len(dataset['target'].unique())"
   ]
  },
  {
   "cell_type": "code",
   "execution_count": 13,
   "id": "e65476e3",
   "metadata": {
    "execution": {
     "iopub.execute_input": "2022-07-01T16:17:08.968613Z",
     "iopub.status.busy": "2022-07-01T16:17:08.968022Z",
     "iopub.status.idle": "2022-07-01T16:17:08.976793Z",
     "shell.execute_reply": "2022-07-01T16:17:08.975763Z"
    },
    "papermill": {
     "duration": 0.051823,
     "end_time": "2022-07-01T16:17:08.979010",
     "exception": false,
     "start_time": "2022-07-01T16:17:08.927187",
     "status": "completed"
    },
    "tags": []
   },
   "outputs": [
    {
     "data": {
      "text/plain": [
       "beauty                 1524\n",
       "bags                   1508\n",
       "jewelry and watches    1503\n",
       "shoes                  1465\n",
       "Name: target, dtype: int64"
      ]
     },
     "execution_count": 13,
     "metadata": {},
     "output_type": "execute_result"
    }
   ],
   "source": [
    "dataset['target'].value_counts()\n"
   ]
  },
  {
   "cell_type": "code",
   "execution_count": 14,
   "id": "554259cb",
   "metadata": {
    "execution": {
     "iopub.execute_input": "2022-07-01T16:17:09.061481Z",
     "iopub.status.busy": "2022-07-01T16:17:09.060651Z",
     "iopub.status.idle": "2022-07-01T16:17:09.330610Z",
     "shell.execute_reply": "2022-07-01T16:17:09.329681Z"
    },
    "papermill": {
     "duration": 0.31324,
     "end_time": "2022-07-01T16:17:09.332961",
     "exception": false,
     "start_time": "2022-07-01T16:17:09.019721",
     "status": "completed"
    },
    "tags": []
   },
   "outputs": [
    {
     "data": {
      "image/png": "[encoded data removed]",
      "text/plain": [
       "<Figure size 864x432 with 1 Axes>"
      ]
     },
     "metadata": {},
     "output_type": "display_data"
    }
   ],
   "source": [
    "sns.set(font_scale=1.5)\n",
    "dataset['target'].value_counts().plot(kind='bar', figsize=(12, 6), rot=0)\n",
    "plt.xlabel(\"product\", labelpad=10)\n",
    "plt.ylabel(\"product count\", labelpad=10)\n",
    "plt.title(\"product count by category\", y=1.02);"
   ]
  },
  {
   "cell_type": "code",
   "execution_count": 15,
   "id": "c8713e10",
   "metadata": {
    "execution": {
     "iopub.execute_input": "2022-07-01T16:17:09.419153Z",
     "iopub.status.busy": "2022-07-01T16:17:09.418862Z",
     "iopub.status.idle": "2022-07-01T16:17:09.423284Z",
     "shell.execute_reply": "2022-07-01T16:17:09.422410Z"
    },
    "papermill": {
     "duration": 0.04965,
     "end_time": "2022-07-01T16:17:09.425553",
     "exception": false,
     "start_time": "2022-07-01T16:17:09.375903",
     "status": "completed"
    },
    "tags": []
   },
   "outputs": [],
   "source": [
    "####resize images\n",
    "IMAGE_SIZE = [224,224]"
   ]
  },
  {
   "cell_type": "code",
   "execution_count": 16,
   "id": "365faab8",
   "metadata": {
    "execution": {
     "iopub.execute_input": "2022-07-01T16:17:09.510322Z",
     "iopub.status.busy": "2022-07-01T16:17:09.510024Z",
     "iopub.status.idle": "2022-07-01T16:17:09.515674Z",
     "shell.execute_reply": "2022-07-01T16:17:09.514716Z"
    },
    "papermill": {
     "duration": 0.050361,
     "end_time": "2022-07-01T16:17:09.517954",
     "exception": false,
     "start_time": "2022-07-01T16:17:09.467593",
     "status": "completed"
    },
    "tags": []
   },
   "outputs": [],
   "source": [
    "def preprocess(im):\n",
    "    im=load_img(i,target_size=(224,224))\n",
    "    im=img_to_array(im)\n",
    "    im=np.expand_dims(im,axis=0)\n",
    "    im=preprocess_input(im)\n",
    "    return im[0]"
   ]
  },
  {
   "cell_type": "code",
   "execution_count": 17,
   "id": "8e13494b",
   "metadata": {
    "execution": {
     "iopub.execute_input": "2022-07-01T16:17:09.602733Z",
     "iopub.status.busy": "2022-07-01T16:17:09.602246Z",
     "iopub.status.idle": "2022-07-01T16:17:09.608562Z",
     "shell.execute_reply": "2022-07-01T16:17:09.607559Z"
    },
    "papermill": {
     "duration": 0.051978,
     "end_time": "2022-07-01T16:17:09.610838",
     "exception": false,
     "start_time": "2022-07-01T16:17:09.558860",
     "status": "completed"
    },
    "tags": []
   },
   "outputs": [
    {
     "data": {
      "text/plain": [
       "array([], dtype=float64)"
      ]
     },
     "execution_count": 17,
     "metadata": {},
     "output_type": "execute_result"
    }
   ],
   "source": [
    "images = np.array(Image_list)\n",
    "images"
   ]
  },
  {
   "cell_type": "code",
   "execution_count": 18,
   "id": "e246dc42",
   "metadata": {
    "execution": {
     "iopub.execute_input": "2022-07-01T16:17:09.695676Z",
     "iopub.status.busy": "2022-07-01T16:17:09.695031Z",
     "iopub.status.idle": "2022-07-01T16:17:10.019518Z",
     "shell.execute_reply": "2022-07-01T16:17:10.017916Z"
    },
    "papermill": {
     "duration": 0.369932,
     "end_time": "2022-07-01T16:17:10.022184",
     "exception": false,
     "start_time": "2022-07-01T16:17:09.652252",
     "status": "completed"
    },
    "tags": []
   },
   "outputs": [],
   "source": [
    "data = os.listdir(\"../input/green-deck-image-classification/fashion/fashion\")"
   ]
  },
  {
   "cell_type": "code",
   "execution_count": 19,
   "id": "bef18210",
   "metadata": {
    "execution": {
     "iopub.execute_input": "2022-07-01T16:17:10.120165Z",
     "iopub.status.busy": "2022-07-01T16:17:10.119348Z",
     "iopub.status.idle": "2022-07-01T16:17:10.337279Z",
     "shell.execute_reply": "2022-07-01T16:17:10.336279Z"
    },
    "papermill": {
     "duration": 0.269057,
     "end_time": "2022-07-01T16:17:10.339906",
     "exception": false,
     "start_time": "2022-07-01T16:17:10.070849",
     "status": "completed"
    },
    "tags": []
   },
   "outputs": [],
   "source": [
    "from sklearn.model_selection import train_test_split\n",
    "train = df = pd.read_csv('../input/green-deck-image-classification/train.csv')\n",
    "train, test = train_test_split(df, test_size=0.2, random_state=25)"
   ]
  },
  {
   "cell_type": "code",
   "execution_count": 20,
   "id": "3009ff58",
   "metadata": {
    "execution": {
     "iopub.execute_input": "2022-07-01T16:17:10.425155Z",
     "iopub.status.busy": "2022-07-01T16:17:10.424408Z",
     "iopub.status.idle": "2022-07-01T16:17:17.275751Z",
     "shell.execute_reply": "2022-07-01T16:17:17.274667Z"
    },
    "papermill": {
     "duration": 6.897326,
     "end_time": "2022-07-01T16:17:17.279301",
     "exception": false,
     "start_time": "2022-07-01T16:17:10.381975",
     "status": "completed"
    },
    "tags": []
   },
   "outputs": [
    {
     "name": "stderr",
     "output_type": "stream",
     "text": [
      "2022-07-01 16:17:10.547529: I tensorflow/stream_executor/cuda/cuda_gpu_executor.cc:937] successful NUMA node read from SysFS had negative value (-1), but there must be at least one NUMA node, so returning NUMA node zero\n",
      "2022-07-01 16:17:10.745860: I tensorflow/stream_executor/cuda/cuda_gpu_executor.cc:937] successful NUMA node read from SysFS had negative value (-1), but there must be at least one NUMA node, so returning NUMA node zero\n",
      "2022-07-01 16:17:10.747014: I tensorflow/stream_executor/cuda/cuda_gpu_executor.cc:937] successful NUMA node read from SysFS had negative value (-1), but there must be at least one NUMA node, so returning NUMA node zero\n",
      "2022-07-01 16:17:10.748872: I tensorflow/core/platform/cpu_feature_guard.cc:142] This TensorFlow binary is optimized with oneAPI Deep Neural Network Library (oneDNN) to use the following CPU instructions in performance-critical operations:  AVX2 FMA\n",
      "To enable them in other operations, rebuild TensorFlow with the appropriate compiler flags.\n",
      "2022-07-01 16:17:10.749347: I tensorflow/stream_executor/cuda/cuda_gpu_executor.cc:937] successful NUMA node read from SysFS had negative value (-1), but there must be at least one NUMA node, so returning NUMA node zero\n",
      "2022-07-01 16:17:10.750530: I tensorflow/stream_executor/cuda/cuda_gpu_executor.cc:937] successful NUMA node read from SysFS had negative value (-1), but there must be at least one NUMA node, so returning NUMA node zero\n",
      "2022-07-01 16:17:10.751579: I tensorflow/stream_executor/cuda/cuda_gpu_executor.cc:937] successful NUMA node read from SysFS had negative value (-1), but there must be at least one NUMA node, so returning NUMA node zero\n",
      "2022-07-01 16:17:13.543774: I tensorflow/stream_executor/cuda/cuda_gpu_executor.cc:937] successful NUMA node read from SysFS had negative value (-1), but there must be at least one NUMA node, so returning NUMA node zero\n",
      "2022-07-01 16:17:13.545189: I tensorflow/stream_executor/cuda/cuda_gpu_executor.cc:937] successful NUMA node read from SysFS had negative value (-1), but there must be at least one NUMA node, so returning NUMA node zero\n",
      "2022-07-01 16:17:13.546614: I tensorflow/stream_executor/cuda/cuda_gpu_executor.cc:937] successful NUMA node read from SysFS had negative value (-1), but there must be at least one NUMA node, so returning NUMA node zero\n",
      "2022-07-01 16:17:13.548818: I tensorflow/core/common_runtime/gpu/gpu_device.cc:1510] Created device /job:localhost/replica:0/task:0/device:GPU:0 with 15403 MB memory:  -> device: 0, name: Tesla P100-PCIE-16GB, pci bus id: 0000:00:04.0, compute capability: 6.0\n"
     ]
    },
    {
     "name": "stdout",
     "output_type": "stream",
     "text": [
      "Downloading data from https://storage.googleapis.com/tensorflow/keras-applications/vgg19/vgg19_weights_tf_dim_ordering_tf_kernels_notop.h5\n",
      "80142336/80134624 [==============================] - 2s 0us/step\n",
      "80150528/80134624 [==============================] - 2s 0us/step\n"
     ]
    }
   ],
   "source": [
    "vgg =VGG19(include_top=False,pooling='avg',input_shape=(224,224,3))"
   ]
  },
  {
   "cell_type": "code",
   "execution_count": 21,
   "id": "aab889cf",
   "metadata": {
    "execution": {
     "iopub.execute_input": "2022-07-01T16:17:17.425579Z",
     "iopub.status.busy": "2022-07-01T16:17:17.425275Z",
     "iopub.status.idle": "2022-07-01T16:17:17.430707Z",
     "shell.execute_reply": "2022-07-01T16:17:17.429595Z"
    },
    "papermill": {
     "duration": 0.061163,
     "end_time": "2022-07-01T16:17:17.433056",
     "exception": false,
     "start_time": "2022-07-01T16:17:17.371893",
     "status": "completed"
    },
    "tags": []
   },
   "outputs": [],
   "source": [
    "from tensorflow.keras.preprocessing import image"
   ]
  },
  {
   "cell_type": "code",
   "execution_count": 22,
   "id": "2404547b",
   "metadata": {
    "execution": {
     "iopub.execute_input": "2022-07-01T16:17:17.533960Z",
     "iopub.status.busy": "2022-07-01T16:17:17.533726Z",
     "iopub.status.idle": "2022-07-01T16:17:17.544117Z",
     "shell.execute_reply": "2022-07-01T16:17:17.543271Z"
    },
    "papermill": {
     "duration": 0.063404,
     "end_time": "2022-07-01T16:17:17.546343",
     "exception": false,
     "start_time": "2022-07-01T16:17:17.482939",
     "status": "completed"
    },
    "tags": []
   },
   "outputs": [],
   "source": [
    "x = Flatten()(vgg.output)"
   ]
  },
  {
   "cell_type": "code",
   "execution_count": 23,
   "id": "0bd378f0",
   "metadata": {
    "execution": {
     "iopub.execute_input": "2022-07-01T16:17:17.647371Z",
     "iopub.status.busy": "2022-07-01T16:17:17.647136Z",
     "iopub.status.idle": "2022-07-01T16:17:17.661288Z",
     "shell.execute_reply": "2022-07-01T16:17:17.660312Z"
    },
    "papermill": {
     "duration": 0.068027,
     "end_time": "2022-07-01T16:17:17.663558",
     "exception": false,
     "start_time": "2022-07-01T16:17:17.595531",
     "status": "completed"
    },
    "tags": []
   },
   "outputs": [],
   "source": [
    "prediction = Dense(len(dataset['target'].unique()), activation = 'softmax') (x)"
   ]
  },
  {
   "cell_type": "code",
   "execution_count": 24,
   "id": "08d16ae8",
   "metadata": {
    "execution": {
     "iopub.execute_input": "2022-07-01T16:17:17.762844Z",
     "iopub.status.busy": "2022-07-01T16:17:17.762616Z",
     "iopub.status.idle": "2022-07-01T16:17:17.772784Z",
     "shell.execute_reply": "2022-07-01T16:17:17.771875Z"
    },
    "papermill": {
     "duration": 0.062468,
     "end_time": "2022-07-01T16:17:17.774915",
     "exception": false,
     "start_time": "2022-07-01T16:17:17.712447",
     "status": "completed"
    },
    "tags": []
   },
   "outputs": [],
   "source": [
    "model = Model(inputs=vgg.input, outputs=prediction)"
   ]
  },
  {
   "cell_type": "code",
   "execution_count": 25,
   "id": "335a014b",
   "metadata": {
    "execution": {
     "iopub.execute_input": "2022-07-01T16:17:17.874704Z",
     "iopub.status.busy": "2022-07-01T16:17:17.874476Z",
     "iopub.status.idle": "2022-07-01T16:17:17.898546Z",
     "shell.execute_reply": "2022-07-01T16:17:17.897179Z"
    },
    "papermill": {
     "duration": 0.076362,
     "end_time": "2022-07-01T16:17:17.900829",
     "exception": false,
     "start_time": "2022-07-01T16:17:17.824467",
     "status": "completed"
    },
    "tags": []
   },
   "outputs": [
    {
     "name": "stdout",
     "output_type": "stream",
     "text": [
      "Model: \"model\"\n",
      "_________________________________________________________________\n",
      "Layer (type)                 Output Shape              Param #   \n",
      "=================================================================\n",
      "input_1 (InputLayer)         [(None, 224, 224, 3)]     0         \n",
      "_________________________________________________________________\n",
      "block1_conv1 (Conv2D)        (None, 224, 224, 64)      1792      \n",
      "_________________________________________________________________\n",
      "block1_conv2 (Conv2D)        (None, 224, 224, 64)      36928     \n",
      "_________________________________________________________________\n",
      "block1_pool (MaxPooling2D)   (None, 112, 112, 64)      0         \n",
      "_________________________________________________________________\n",
      "block2_conv1 (Conv2D)        (None, 112, 112, 128)     73856     \n",
      "_________________________________________________________________\n",
      "block2_conv2 (Conv2D)        (None, 112, 112, 128)     147584    \n",
      "_________________________________________________________________\n",
      "block2_pool (MaxPooling2D)   (None, 56, 56, 128)       0         \n",
      "_________________________________________________________________\n",
      "block3_conv1 (Conv2D)        (None, 56, 56, 256)       295168    \n",
      "_________________________________________________________________\n",
      "block3_conv2 (Conv2D)        (None, 56, 56, 256)       590080    \n",
      "_________________________________________________________________\n",
      "block3_conv3 (Conv2D)        (None, 56, 56, 256)       590080    \n",
      "_________________________________________________________________\n",
      "block3_conv4 (Conv2D)        (None, 56, 56, 256)       590080    \n",
      "_________________________________________________________________\n",
      "block3_pool (MaxPooling2D)   (None, 28, 28, 256)       0         \n",
      "_________________________________________________________________\n",
      "block4_conv1 (Conv2D)        (None, 28, 28, 512)       1180160   \n",
      "_________________________________________________________________\n",
      "block4_conv2 (Conv2D)        (None, 28, 28, 512)       2359808   \n",
      "_________________________________________________________________\n",
      "block4_conv3 (Conv2D)        (None, 28, 28, 512)       2359808   \n",
      "_________________________________________________________________\n",
      "block4_conv4 (Conv2D)        (None, 28, 28, 512)       2359808   \n",
      "_________________________________________________________________\n",
      "block4_pool (MaxPooling2D)   (None, 14, 14, 512)       0         \n",
      "_________________________________________________________________\n",
      "block5_conv1 (Conv2D)        (None, 14, 14, 512)       2359808   \n",
      "_________________________________________________________________\n",
      "block5_conv2 (Conv2D)        (None, 14, 14, 512)       2359808   \n",
      "_________________________________________________________________\n",
      "block5_conv3 (Conv2D)        (None, 14, 14, 512)       2359808   \n",
      "_________________________________________________________________\n",
      "block5_conv4 (Conv2D)        (None, 14, 14, 512)       2359808   \n",
      "_________________________________________________________________\n",
      "block5_pool (MaxPooling2D)   (None, 7, 7, 512)         0         \n",
      "_________________________________________________________________\n",
      "global_average_pooling2d (Gl (None, 512)               0         \n",
      "_________________________________________________________________\n",
      "flatten (Flatten)            (None, 512)               0         \n",
      "_________________________________________________________________\n",
      "dense (Dense)                (None, 4)                 2052      \n",
      "=================================================================\n",
      "Total params: 20,026,436\n",
      "Trainable params: 20,026,436\n",
      "Non-trainable params: 0\n",
      "_________________________________________________________________\n"
     ]
    }
   ],
   "source": [
    "model.summary()"
   ]
  },
  {
   "cell_type": "code",
   "execution_count": 26,
   "id": "7e23b690",
   "metadata": {
    "execution": {
     "iopub.execute_input": "2022-07-01T16:17:18.017085Z",
     "iopub.status.busy": "2022-07-01T16:17:18.016824Z",
     "iopub.status.idle": "2022-07-01T16:17:18.021819Z",
     "shell.execute_reply": "2022-07-01T16:17:18.020769Z"
    },
    "papermill": {
     "duration": 0.072803,
     "end_time": "2022-07-01T16:17:18.024026",
     "exception": false,
     "start_time": "2022-07-01T16:17:17.951223",
     "status": "completed"
    },
    "tags": []
   },
   "outputs": [],
   "source": [
    "from keras.preprocessing.image import ImageDataGenerator\n",
    "\n",
    "datagen=ImageDataGenerator(rescale=1./255.,validation_split=0.25)"
   ]
  },
  {
   "cell_type": "code",
   "execution_count": 27,
   "id": "8475641f",
   "metadata": {
    "execution": {
     "iopub.execute_input": "2022-07-01T16:17:18.125420Z",
     "iopub.status.busy": "2022-07-01T16:17:18.125148Z",
     "iopub.status.idle": "2022-07-01T16:17:33.182084Z",
     "shell.execute_reply": "2022-07-01T16:17:33.181091Z"
    },
    "papermill": {
     "duration": 15.110508,
     "end_time": "2022-07-01T16:17:33.185061",
     "exception": false,
     "start_time": "2022-07-01T16:17:18.074553",
     "status": "completed"
    },
    "tags": []
   },
   "outputs": [
    {
     "name": "stdout",
     "output_type": "stream",
     "text": [
      "Found 3600 validated image filenames belonging to 4 classes.\n",
      "Found 1200 validated image filenames belonging to 4 classes.\n",
      "Found 1200 validated image filenames.\n"
     ]
    }
   ],
   "source": [
    "train_generator= datagen.flow_from_dataframe(\n",
    "dataframe=train,\n",
    "directory=\"../input/green-deck-image-classification/fashion/fashion\",\n",
    "x_col=\"images\",\n",
    "y_col=\"target\",\n",
    "subset=\"training\",\n",
    "batch_size=32,\n",
    "seed=42,\n",
    "shuffle=True,\n",
    "class_mode=\"categorical\",\n",
    "target_size=(32,32))\n",
    "\n",
    "valid_generator= datagen.flow_from_dataframe(\n",
    "dataframe=train,\n",
    "directory=\"../input/green-deck-image-classification/fashion/fashion\",\n",
    "x_col=\"images\",\n",
    "y_col=\"target\",\n",
    "subset=\"validation\",\n",
    "batch_size=32,\n",
    "seed=42,\n",
    "shuffle=True,\n",
    "class_mode=\"categorical\",\n",
    "target_size=(32,32))\n",
    "\n",
    "test_datagen=ImageDataGenerator(rescale=1./255.)\n",
    "\n",
    "test_generator=test_datagen.flow_from_dataframe(\n",
    "dataframe=test,\n",
    "directory=\"../input/green-deck-image-classification/fashion/fashion\",\n",
    "x_col=\"images\",\n",
    "y_col=None,\n",
    "batch_size=32,\n",
    "seed=42,\n",
    "shuffle=False,\n",
    "class_mode=None,\n",
    "target_size=(32,32))"
   ]
  },
  {
   "cell_type": "code",
   "execution_count": 28,
   "id": "fe12e7a2",
   "metadata": {
    "execution": {
     "iopub.execute_input": "2022-07-01T16:17:33.363884Z",
     "iopub.status.busy": "2022-07-01T16:17:33.363539Z",
     "iopub.status.idle": "2022-07-01T16:17:33.385404Z",
     "shell.execute_reply": "2022-07-01T16:17:33.384451Z"
    },
    "papermill": {
     "duration": 0.113576,
     "end_time": "2022-07-01T16:17:33.388308",
     "exception": false,
     "start_time": "2022-07-01T16:17:33.274732",
     "status": "completed"
    },
    "tags": []
   },
   "outputs": [],
   "source": [
    "model.compile(\n",
    "  loss='categorical_crossentropy',\n",
    "  optimizer= 'adam',\n",
    "  metrics=['accuracy']\n",
    ")"
   ]
  },
  {
   "cell_type": "code",
   "execution_count": 29,
   "id": "0485b2b4",
   "metadata": {
    "execution": {
     "iopub.execute_input": "2022-07-01T16:17:33.569970Z",
     "iopub.status.busy": "2022-07-01T16:17:33.569704Z",
     "iopub.status.idle": "2022-07-01T16:33:52.039851Z",
     "shell.execute_reply": "2022-07-01T16:33:52.038326Z"
    },
    "papermill": {
     "duration": 978.56632,
     "end_time": "2022-07-01T16:33:52.043867",
     "exception": false,
     "start_time": "2022-07-01T16:17:33.477547",
     "status": "completed"
    },
    "tags": []
   },
   "outputs": [
    {
     "name": "stderr",
     "output_type": "stream",
     "text": [
      "/opt/conda/lib/python3.7/site-packages/keras/engine/training.py:1972: UserWarning: `Model.fit_generator` is deprecated and will be removed in a future version. Please use `Model.fit`, which supports generators.\n",
      "  warnings.warn('`Model.fit_generator` is deprecated and '\n",
      "2022-07-01 16:17:33.882759: I tensorflow/compiler/mlir/mlir_graph_optimization_pass.cc:185] None of the MLIR Optimization Passes are enabled (registered 2)\n"
     ]
    },
    {
     "name": "stdout",
     "output_type": "stream",
     "text": [
      "Epoch 1/47\n"
     ]
    },
    {
     "name": "stderr",
     "output_type": "stream",
     "text": [
      "2022-07-01 16:17:36.228853: I tensorflow/stream_executor/cuda/cuda_dnn.cc:369] Loaded cuDNN version 8005\n"
     ]
    },
    {
     "name": "stdout",
     "output_type": "stream",
     "text": [
      "112/112 [==============================] - 45s 321ms/step - loss: 2.0351 - accuracy: 0.3136 - val_loss: 1.2672 - val_accuracy: 0.3843\n",
      "Epoch 2/47\n",
      "112/112 [==============================] - 17s 151ms/step - loss: 1.2418 - accuracy: 0.4039 - val_loss: 1.1410 - val_accuracy: 0.4426\n",
      "Epoch 3/47\n",
      "112/112 [==============================] - 17s 152ms/step - loss: 1.1768 - accuracy: 0.4271 - val_loss: 1.1150 - val_accuracy: 0.4704\n",
      "Epoch 4/47\n",
      "112/112 [==============================] - 17s 150ms/step - loss: 1.1624 - accuracy: 0.4400 - val_loss: 1.0556 - val_accuracy: 0.5236\n",
      "Epoch 5/47\n",
      "112/112 [==============================] - 18s 161ms/step - loss: 1.0903 - accuracy: 0.5182 - val_loss: 0.9844 - val_accuracy: 0.5718\n",
      "Epoch 6/47\n",
      "112/112 [==============================] - 16s 147ms/step - loss: 1.0005 - accuracy: 0.5762 - val_loss: 0.9004 - val_accuracy: 0.6495\n",
      "Epoch 7/47\n",
      "112/112 [==============================] - 17s 148ms/step - loss: 0.8705 - accuracy: 0.6833 - val_loss: 0.8006 - val_accuracy: 0.7137\n",
      "Epoch 8/47\n",
      "112/112 [==============================] - 18s 157ms/step - loss: 0.7787 - accuracy: 0.7228 - val_loss: 0.8258 - val_accuracy: 0.7255\n",
      "Epoch 9/47\n",
      "112/112 [==============================] - 17s 147ms/step - loss: 0.6690 - accuracy: 0.7707 - val_loss: 0.7449 - val_accuracy: 0.7365\n",
      "Epoch 10/47\n",
      "112/112 [==============================] - 18s 160ms/step - loss: 0.6112 - accuracy: 0.7985 - val_loss: 0.6702 - val_accuracy: 0.7644\n",
      "Epoch 11/47\n",
      "112/112 [==============================] - 18s 159ms/step - loss: 0.6498 - accuracy: 0.7834 - val_loss: 0.5442 - val_accuracy: 0.8066\n",
      "Epoch 12/47\n",
      "112/112 [==============================] - 16s 146ms/step - loss: 0.6597 - accuracy: 0.7842 - val_loss: 0.5118 - val_accuracy: 0.8209\n",
      "Epoch 13/47\n",
      "112/112 [==============================] - 17s 155ms/step - loss: 0.5043 - accuracy: 0.8321 - val_loss: 0.6951 - val_accuracy: 0.7356\n",
      "Epoch 14/47\n",
      "112/112 [==============================] - 17s 148ms/step - loss: 0.4016 - accuracy: 0.8672 - val_loss: 0.4357 - val_accuracy: 0.8530\n",
      "Epoch 15/47\n",
      "112/112 [==============================] - 18s 158ms/step - loss: 0.3254 - accuracy: 0.8969 - val_loss: 0.4328 - val_accuracy: 0.8573\n",
      "Epoch 16/47\n",
      "112/112 [==============================] - 18s 158ms/step - loss: 0.3941 - accuracy: 0.8716 - val_loss: 0.6733 - val_accuracy: 0.7863\n",
      "Epoch 17/47\n",
      "112/112 [==============================] - 16s 146ms/step - loss: 0.3753 - accuracy: 0.8733 - val_loss: 0.3976 - val_accuracy: 0.8682\n",
      "Epoch 18/47\n",
      "112/112 [==============================] - 18s 157ms/step - loss: 0.3744 - accuracy: 0.8778 - val_loss: 0.4242 - val_accuracy: 0.8547\n",
      "Epoch 19/47\n",
      "112/112 [==============================] - 16s 145ms/step - loss: 0.3040 - accuracy: 0.9033 - val_loss: 0.4591 - val_accuracy: 0.8758\n",
      "Epoch 20/47\n",
      "112/112 [==============================] - 17s 154ms/step - loss: 0.2034 - accuracy: 0.9392 - val_loss: 0.3537 - val_accuracy: 0.8843\n",
      "Epoch 21/47\n",
      "112/112 [==============================] - 18s 161ms/step - loss: 0.1522 - accuracy: 0.9496 - val_loss: 0.3603 - val_accuracy: 0.8986\n",
      "Epoch 22/47\n",
      "112/112 [==============================] - 17s 149ms/step - loss: 0.1644 - accuracy: 0.9482 - val_loss: 0.4906 - val_accuracy: 0.8851\n",
      "Epoch 23/47\n",
      "112/112 [==============================] - 18s 161ms/step - loss: 1.2930 - accuracy: 0.5625 - val_loss: 1.0649 - val_accuracy: 0.5118\n",
      "Epoch 24/47\n",
      "112/112 [==============================] - 16s 147ms/step - loss: 0.8308 - accuracy: 0.6892 - val_loss: 0.6391 - val_accuracy: 0.7652\n",
      "Epoch 25/47\n",
      "112/112 [==============================] - 18s 158ms/step - loss: 0.5772 - accuracy: 0.7971 - val_loss: 0.6178 - val_accuracy: 0.7855\n",
      "Epoch 26/47\n",
      "112/112 [==============================] - 17s 148ms/step - loss: 0.4348 - accuracy: 0.8520 - val_loss: 0.4145 - val_accuracy: 0.8699\n",
      "Epoch 27/47\n",
      "112/112 [==============================] - 17s 155ms/step - loss: 0.3633 - accuracy: 0.8767 - val_loss: 0.4186 - val_accuracy: 0.8682\n",
      "Epoch 28/47\n",
      "112/112 [==============================] - 17s 156ms/step - loss: 0.2930 - accuracy: 0.9027 - val_loss: 0.4069 - val_accuracy: 0.8750\n",
      "Epoch 29/47\n",
      "112/112 [==============================] - 17s 148ms/step - loss: 0.2304 - accuracy: 0.9210 - val_loss: 0.4203 - val_accuracy: 0.8826\n",
      "Epoch 30/47\n",
      "112/112 [==============================] - 18s 163ms/step - loss: 0.2795 - accuracy: 0.9112 - val_loss: 0.3485 - val_accuracy: 0.8767\n",
      "Epoch 31/47\n",
      "112/112 [==============================] - 17s 149ms/step - loss: 0.1909 - accuracy: 0.9347 - val_loss: 0.3996 - val_accuracy: 0.8894\n",
      "Epoch 32/47\n",
      "112/112 [==============================] - 17s 155ms/step - loss: 0.1643 - accuracy: 0.9484 - val_loss: 0.5837 - val_accuracy: 0.8547\n",
      "Epoch 33/47\n",
      "112/112 [==============================] - 17s 156ms/step - loss: 0.1818 - accuracy: 0.9451 - val_loss: 0.3951 - val_accuracy: 0.8877\n",
      "Epoch 34/47\n",
      "112/112 [==============================] - 17s 147ms/step - loss: 0.1412 - accuracy: 0.9580 - val_loss: 0.4523 - val_accuracy: 0.8851\n",
      "Epoch 35/47\n",
      "112/112 [==============================] - 18s 162ms/step - loss: 0.1367 - accuracy: 0.9568 - val_loss: 0.3604 - val_accuracy: 0.8902\n",
      "Epoch 36/47\n",
      "112/112 [==============================] - 17s 151ms/step - loss: 0.1314 - accuracy: 0.9608 - val_loss: 0.3905 - val_accuracy: 0.8851\n",
      "Epoch 37/47\n",
      "112/112 [==============================] - 18s 164ms/step - loss: 0.1283 - accuracy: 0.9577 - val_loss: 0.4080 - val_accuracy: 0.8775\n",
      "Epoch 38/47\n",
      "112/112 [==============================] - 16s 146ms/step - loss: 0.1132 - accuracy: 0.9619 - val_loss: 0.4937 - val_accuracy: 0.8530\n",
      "Epoch 39/47\n",
      "112/112 [==============================] - 17s 152ms/step - loss: 0.0886 - accuracy: 0.9739 - val_loss: 0.3862 - val_accuracy: 0.9046\n",
      "Epoch 40/47\n",
      "112/112 [==============================] - 18s 165ms/step - loss: 0.1040 - accuracy: 0.9683 - val_loss: 0.5140 - val_accuracy: 0.8775\n",
      "Epoch 41/47\n",
      "112/112 [==============================] - 17s 151ms/step - loss: 0.0779 - accuracy: 0.9770 - val_loss: 0.4182 - val_accuracy: 0.8885\n",
      "Epoch 42/47\n",
      "112/112 [==============================] - 19s 166ms/step - loss: 0.0552 - accuracy: 0.9843 - val_loss: 0.3664 - val_accuracy: 0.8953\n",
      "Epoch 43/47\n",
      "112/112 [==============================] - 16s 147ms/step - loss: 0.0521 - accuracy: 0.9860 - val_loss: 0.5114 - val_accuracy: 0.8919\n",
      "Epoch 44/47\n",
      "112/112 [==============================] - 19s 170ms/step - loss: 0.0484 - accuracy: 0.9832 - val_loss: 0.5097 - val_accuracy: 0.9037\n",
      "Epoch 45/47\n",
      "112/112 [==============================] - 17s 150ms/step - loss: 0.0974 - accuracy: 0.9703 - val_loss: 0.5331 - val_accuracy: 0.8708\n",
      "Epoch 46/47\n",
      "112/112 [==============================] - 17s 150ms/step - loss: 0.0737 - accuracy: 0.9773 - val_loss: 0.5270 - val_accuracy: 0.8809\n",
      "Epoch 47/47\n",
      "112/112 [==============================] - 19s 171ms/step - loss: 0.0767 - accuracy: 0.9781 - val_loss: 0.4797 - val_accuracy: 0.8877\n"
     ]
    }
   ],
   "source": [
    "r = model.fit_generator(\n",
    "    train_generator,\n",
    "    steps_per_epoch=train_generator.samples//train_generator.batch_size,\n",
    "    epochs=47,\n",
    "    validation_data=valid_generator, validation_steps=valid_generator.samples//valid_generator.batch_size,\n",
    "    verbose=1)"
   ]
  },
  {
   "cell_type": "code",
   "execution_count": 30,
   "id": "f97d860e",
   "metadata": {
    "execution": {
     "iopub.execute_input": "2022-07-01T16:33:56.782625Z",
     "iopub.status.busy": "2022-07-01T16:33:56.782310Z",
     "iopub.status.idle": "2022-07-01T16:33:57.053302Z",
     "shell.execute_reply": "2022-07-01T16:33:57.052393Z"
    },
    "papermill": {
     "duration": 2.488432,
     "end_time": "2022-07-01T16:33:57.055678",
     "exception": false,
     "start_time": "2022-07-01T16:33:54.567246",
     "status": "completed"
    },
    "tags": []
   },
   "outputs": [
    {
     "data": {
      "image/png": "[encoded data removed]",
      "text/plain": [
       "<Figure size 432x288 with 1 Axes>"
      ]
     },
     "metadata": {},
     "output_type": "display_data"
    },
    {
     "data": {
      "text/plain": [
       "<Figure size 432x288 with 0 Axes>"
      ]
     },
     "metadata": {},
     "output_type": "display_data"
    }
   ],
   "source": [
    "plt.plot(r.history['loss'], label='train loss')\n",
    "plt.plot(r.history['val_loss'], label='val loss')\n",
    "plt.legend()\n",
    "plt.show()\n",
    "plt.savefig('LossVal_loss')"
   ]
  },
  {
   "cell_type": "code",
   "execution_count": 31,
   "id": "527330e6",
   "metadata": {
    "execution": {
     "iopub.execute_input": "2022-07-01T16:34:01.564658Z",
     "iopub.status.busy": "2022-07-01T16:34:01.564325Z",
     "iopub.status.idle": "2022-07-01T16:34:01.835524Z",
     "shell.execute_reply": "2022-07-01T16:34:01.834611Z"
    },
    "papermill": {
     "duration": 2.530847,
     "end_time": "2022-07-01T16:34:01.837895",
     "exception": false,
     "start_time": "2022-07-01T16:33:59.307048",
     "status": "completed"
    },
    "tags": []
   },
   "outputs": [
    {
     "data": {
      "image/png": "[encoded data removed]",
      "text/plain": [
       "<Figure size 432x288 with 1 Axes>"
      ]
     },
     "metadata": {},
     "output_type": "display_data"
    },
    {
     "data": {
      "text/plain": [
       "<Figure size 432x288 with 0 Axes>"
      ]
     },
     "metadata": {},
     "output_type": "display_data"
    }
   ],
   "source": [
    "plt.plot(r.history['accuracy'], label='train acc')\n",
    "plt.plot(r.history['val_accuracy'], label='val acc')\n",
    "plt.legend()\n",
    "plt.show()\n",
    "plt.savefig('AccVal_acc')"
   ]
  },
  {
   "cell_type": "code",
   "execution_count": 32,
   "id": "dc10547b",
   "metadata": {
    "execution": {
     "iopub.execute_input": "2022-07-01T16:34:06.636795Z",
     "iopub.status.busy": "2022-07-01T16:34:06.636502Z",
     "iopub.status.idle": "2022-07-01T16:34:07.324452Z",
     "shell.execute_reply": "2022-07-01T16:34:07.323370Z"
    },
    "papermill": {
     "duration": 2.90941,
     "end_time": "2022-07-01T16:34:07.327405",
     "exception": false,
     "start_time": "2022-07-01T16:34:04.417995",
     "status": "completed"
    },
    "tags": []
   },
   "outputs": [],
   "source": [
    "import tensorflow as tf\n",
    "\n",
    "from keras.models import load_model\n",
    "\n",
    "model.save('greendeck_new_model.h5')"
   ]
  }
 ],
 "metadata": {
  "kernelspec": {
   "display_name": "Python 3",
   "language": "python",
   "name": "python3"
  },
  "language_info": {
   "codemirror_mode": {
    "name": "ipython",
    "version": 3
   },
   "file_extension": ".py",
   "mimetype": "text/x-python",
   "name": "python",
   "nbconvert_exporter": "python",
   "pygments_lexer": "ipython3",
   "version": "3.7.12"
  },
  "papermill": {
   "default_parameters": {},
   "duration": 1042.796998,
   "end_time": "2022-07-01T16:34:13.354606",
   "environment_variables": {},
   "exception": null,
   "input_path": "__notebook__.ipynb",
   "output_path": "__notebook__.ipynb",
   "parameters": {},
   "start_time": "2022-07-01T16:16:50.557608",
   "version": "2.3.4"
  }
 },
 "nbformat": 4,
 "nbformat_minor": 5
}
